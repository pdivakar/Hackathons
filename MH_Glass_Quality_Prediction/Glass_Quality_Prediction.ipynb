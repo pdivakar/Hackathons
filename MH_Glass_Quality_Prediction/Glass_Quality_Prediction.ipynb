{
 "cells": [
  {
   "cell_type": "markdown",
   "metadata": {},
   "source": [
    "# Glass Quality Prediction"
   ]
  },
  {
   "cell_type": "markdown",
   "metadata": {},
   "source": [
    "We humans have been using glass since ancient times for a variety of applications from building construction to making decorative objects. With technology, glass and its applications have evolved, and today, we have different varieties of glass used for very different purposes from a computer monitor to a bulletproof car window depending on the grade of the glass produced. And not all grades or varieties are manufactured the same way. In this data science challenge, you as a data scientist must use the given data to predict the grade of the glass produced based on the given factors."
   ]
  },
  {
   "cell_type": "markdown",
   "metadata": {},
   "source": [
    "### Data Description:-\n",
    "\n",
    "    Train.csv – 1358 observations.\n",
    "    Test.csv – 583 observations.\n"
   ]
  },
  {
   "cell_type": "markdown",
   "metadata": {},
   "source": [
    "## Import Libraries"
   ]
  },
  {
   "cell_type": "code",
   "execution_count": 1,
   "metadata": {},
   "outputs": [],
   "source": [
    "import numpy as np\n",
    "import pandas as pd\n",
    "import matplotlib.pyplot as plt\n",
    "import seaborn as sns"
   ]
  },
  {
   "cell_type": "code",
   "execution_count": 2,
   "metadata": {},
   "outputs": [],
   "source": [
    "from sklearn import preprocessing\n",
    "from sklearn.preprocessing import MinMaxScaler\n",
    "from sklearn.metrics import confusion_matrix \n",
    "from sklearn.model_selection import train_test_split, RandomizedSearchCV, GridSearchCV"
   ]
  },
  {
   "cell_type": "code",
   "execution_count": 3,
   "metadata": {},
   "outputs": [],
   "source": [
    "from sklearn.tree import DecisionTreeClassifier, DecisionTreeRegressor\n",
    "from sklearn.neighbors import KNeighborsClassifier\n",
    "from sklearn.ensemble import RandomForestClassifier\n",
    "from sklearn.linear_model import LogisticRegression\n",
    "\n",
    "#from xgboost import XGBClassifier"
   ]
  },
  {
   "cell_type": "code",
   "execution_count": 4,
   "metadata": {},
   "outputs": [
    {
     "name": "stderr",
     "output_type": "stream",
     "text": [
      "Using TensorFlow backend.\n"
     ]
    }
   ],
   "source": [
    "from keras.models import Sequential\n",
    "from keras.layers import Dense, Flatten, Activation\n",
    "from keras.layers import Dropout\n",
    "\n",
    "import keras.backend as K"
   ]
  },
  {
   "cell_type": "code",
   "execution_count": 5,
   "metadata": {},
   "outputs": [],
   "source": [
    "from sklearn.metrics import classification_report, confusion_matrix, accuracy_score"
   ]
  },
  {
   "cell_type": "code",
   "execution_count": 6,
   "metadata": {},
   "outputs": [],
   "source": [
    "from sklearn.decomposition import TruncatedSVD"
   ]
  },
  {
   "cell_type": "code",
   "execution_count": 7,
   "metadata": {},
   "outputs": [
    {
     "name": "stdout",
     "output_type": "stream",
     "text": [
      "The train data size : (1358, 16) \n",
      "The test data size : (583, 15) \n"
     ]
    }
   ],
   "source": [
    "# read the train and test datasets\n",
    "train_df = pd.read_csv('./Glass_Quality_Participants_Data/Train.csv')\n",
    "print(\"The train data size : {} \".format(train_df.shape))\n",
    "\n",
    "test_df = pd.read_csv('./Glass_Quality_Participants_Data/Test.csv')\n",
    "print(\"The test data size : {} \".format(test_df.shape))"
   ]
  },
  {
   "cell_type": "code",
   "execution_count": 8,
   "metadata": {},
   "outputs": [
    {
     "data": {
      "text/html": [
       "<div>\n",
       "<style scoped>\n",
       "    .dataframe tbody tr th:only-of-type {\n",
       "        vertical-align: middle;\n",
       "    }\n",
       "\n",
       "    .dataframe tbody tr th {\n",
       "        vertical-align: top;\n",
       "    }\n",
       "\n",
       "    .dataframe thead th {\n",
       "        text-align: right;\n",
       "    }\n",
       "</style>\n",
       "<table border=\"1\" class=\"dataframe\">\n",
       "  <thead>\n",
       "    <tr style=\"text-align: right;\">\n",
       "      <th></th>\n",
       "      <th>grade_A_Component_1</th>\n",
       "      <th>grade_A_Component_2</th>\n",
       "      <th>max_luminosity</th>\n",
       "      <th>thickness</th>\n",
       "      <th>xmin</th>\n",
       "      <th>xmax</th>\n",
       "      <th>ymin</th>\n",
       "      <th>ymax</th>\n",
       "      <th>pixel_area</th>\n",
       "      <th>log_area</th>\n",
       "      <th>x_component_1</th>\n",
       "      <th>x_component_2</th>\n",
       "      <th>x_component_3</th>\n",
       "      <th>x_component_4</th>\n",
       "      <th>x_component_5</th>\n",
       "      <th>class</th>\n",
       "    </tr>\n",
       "  </thead>\n",
       "  <tbody>\n",
       "    <tr>\n",
       "      <th>0</th>\n",
       "      <td>0</td>\n",
       "      <td>1</td>\n",
       "      <td>150</td>\n",
       "      <td>36</td>\n",
       "      <td>144</td>\n",
       "      <td>172</td>\n",
       "      <td>947225</td>\n",
       "      <td>947332</td>\n",
       "      <td>439</td>\n",
       "      <td>439.099273</td>\n",
       "      <td>0</td>\n",
       "      <td>0</td>\n",
       "      <td>1</td>\n",
       "      <td>0</td>\n",
       "      <td>0</td>\n",
       "      <td>1</td>\n",
       "    </tr>\n",
       "    <tr>\n",
       "      <th>1</th>\n",
       "      <td>1</td>\n",
       "      <td>0</td>\n",
       "      <td>134</td>\n",
       "      <td>55</td>\n",
       "      <td>1144</td>\n",
       "      <td>1152</td>\n",
       "      <td>2379058</td>\n",
       "      <td>2379624</td>\n",
       "      <td>329</td>\n",
       "      <td>329.205616</td>\n",
       "      <td>1</td>\n",
       "      <td>0</td>\n",
       "      <td>0</td>\n",
       "      <td>0</td>\n",
       "      <td>0</td>\n",
       "      <td>1</td>\n",
       "    </tr>\n",
       "    <tr>\n",
       "      <th>2</th>\n",
       "      <td>1</td>\n",
       "      <td>0</td>\n",
       "      <td>135</td>\n",
       "      <td>65</td>\n",
       "      <td>950</td>\n",
       "      <td>974</td>\n",
       "      <td>1038442</td>\n",
       "      <td>1036754</td>\n",
       "      <td>300</td>\n",
       "      <td>300.120598</td>\n",
       "      <td>0</td>\n",
       "      <td>0</td>\n",
       "      <td>0</td>\n",
       "      <td>0</td>\n",
       "      <td>0</td>\n",
       "      <td>2</td>\n",
       "    </tr>\n",
       "    <tr>\n",
       "      <th>3</th>\n",
       "      <td>0</td>\n",
       "      <td>1</td>\n",
       "      <td>123</td>\n",
       "      <td>35</td>\n",
       "      <td>41</td>\n",
       "      <td>220</td>\n",
       "      <td>1705580</td>\n",
       "      <td>1705604</td>\n",
       "      <td>6803</td>\n",
       "      <td>6803.778622</td>\n",
       "      <td>0</td>\n",
       "      <td>0</td>\n",
       "      <td>1</td>\n",
       "      <td>0</td>\n",
       "      <td>0</td>\n",
       "      <td>1</td>\n",
       "    </tr>\n",
       "    <tr>\n",
       "      <th>4</th>\n",
       "      <td>1</td>\n",
       "      <td>0</td>\n",
       "      <td>138</td>\n",
       "      <td>69</td>\n",
       "      <td>462</td>\n",
       "      <td>466</td>\n",
       "      <td>1088124</td>\n",
       "      <td>1086579</td>\n",
       "      <td>251</td>\n",
       "      <td>251.401943</td>\n",
       "      <td>0</td>\n",
       "      <td>0</td>\n",
       "      <td>0</td>\n",
       "      <td>0</td>\n",
       "      <td>0</td>\n",
       "      <td>2</td>\n",
       "    </tr>\n",
       "  </tbody>\n",
       "</table>\n",
       "</div>"
      ],
      "text/plain": [
       "   grade_A_Component_1  grade_A_Component_2  max_luminosity  thickness  xmin  \\\n",
       "0                    0                    1             150         36   144   \n",
       "1                    1                    0             134         55  1144   \n",
       "2                    1                    0             135         65   950   \n",
       "3                    0                    1             123         35    41   \n",
       "4                    1                    0             138         69   462   \n",
       "\n",
       "   xmax     ymin     ymax  pixel_area     log_area  x_component_1  \\\n",
       "0   172   947225   947332         439   439.099273              0   \n",
       "1  1152  2379058  2379624         329   329.205616              1   \n",
       "2   974  1038442  1036754         300   300.120598              0   \n",
       "3   220  1705580  1705604        6803  6803.778622              0   \n",
       "4   466  1088124  1086579         251   251.401943              0   \n",
       "\n",
       "   x_component_2  x_component_3  x_component_4  x_component_5  class  \n",
       "0              0              1              0              0      1  \n",
       "1              0              0              0              0      1  \n",
       "2              0              0              0              0      2  \n",
       "3              0              1              0              0      1  \n",
       "4              0              0              0              0      2  "
      ]
     },
     "execution_count": 8,
     "metadata": {},
     "output_type": "execute_result"
    }
   ],
   "source": [
    "train_df.head()"
   ]
  },
  {
   "cell_type": "code",
   "execution_count": 9,
   "metadata": {},
   "outputs": [
    {
     "data": {
      "text/html": [
       "<div>\n",
       "<style scoped>\n",
       "    .dataframe tbody tr th:only-of-type {\n",
       "        vertical-align: middle;\n",
       "    }\n",
       "\n",
       "    .dataframe tbody tr th {\n",
       "        vertical-align: top;\n",
       "    }\n",
       "\n",
       "    .dataframe thead th {\n",
       "        text-align: right;\n",
       "    }\n",
       "</style>\n",
       "<table border=\"1\" class=\"dataframe\">\n",
       "  <thead>\n",
       "    <tr style=\"text-align: right;\">\n",
       "      <th></th>\n",
       "      <th>grade_A_Component_1</th>\n",
       "      <th>grade_A_Component_2</th>\n",
       "      <th>max_luminosity</th>\n",
       "      <th>thickness</th>\n",
       "      <th>xmin</th>\n",
       "      <th>xmax</th>\n",
       "      <th>ymin</th>\n",
       "      <th>ymax</th>\n",
       "      <th>pixel_area</th>\n",
       "      <th>log_area</th>\n",
       "      <th>x_component_1</th>\n",
       "      <th>x_component_2</th>\n",
       "      <th>x_component_3</th>\n",
       "      <th>x_component_4</th>\n",
       "      <th>x_component_5</th>\n",
       "      <th>class</th>\n",
       "    </tr>\n",
       "  </thead>\n",
       "  <tbody>\n",
       "    <tr>\n",
       "      <th>count</th>\n",
       "      <td>1358.000000</td>\n",
       "      <td>1358.000000</td>\n",
       "      <td>1358.000000</td>\n",
       "      <td>1358.000000</td>\n",
       "      <td>1358.000000</td>\n",
       "      <td>1358.000000</td>\n",
       "      <td>1.358000e+03</td>\n",
       "      <td>1.358000e+03</td>\n",
       "      <td>1358.000000</td>\n",
       "      <td>1358.000000</td>\n",
       "      <td>1358.000000</td>\n",
       "      <td>1358.000000</td>\n",
       "      <td>1358.000000</td>\n",
       "      <td>1358.000000</td>\n",
       "      <td>1358.000000</td>\n",
       "      <td>1358.000000</td>\n",
       "    </tr>\n",
       "    <tr>\n",
       "      <th>mean</th>\n",
       "      <td>0.406480</td>\n",
       "      <td>0.593520</td>\n",
       "      <td>137.893225</td>\n",
       "      <td>78.977909</td>\n",
       "      <td>567.370398</td>\n",
       "      <td>614.032401</td>\n",
       "      <td>1.660107e+06</td>\n",
       "      <td>1.660139e+06</td>\n",
       "      <td>1903.402798</td>\n",
       "      <td>1903.896240</td>\n",
       "      <td>0.081738</td>\n",
       "      <td>0.106038</td>\n",
       "      <td>0.197349</td>\n",
       "      <td>0.035346</td>\n",
       "      <td>0.027982</td>\n",
       "      <td>1.346834</td>\n",
       "    </tr>\n",
       "    <tr>\n",
       "      <th>std</th>\n",
       "      <td>0.491357</td>\n",
       "      <td>0.491357</td>\n",
       "      <td>20.480512</td>\n",
       "      <td>55.324842</td>\n",
       "      <td>522.013094</td>\n",
       "      <td>500.505513</td>\n",
       "      <td>1.778153e+06</td>\n",
       "      <td>1.778177e+06</td>\n",
       "      <td>3839.156721</td>\n",
       "      <td>3839.163241</td>\n",
       "      <td>0.274066</td>\n",
       "      <td>0.308000</td>\n",
       "      <td>0.398145</td>\n",
       "      <td>0.184721</td>\n",
       "      <td>0.164983</td>\n",
       "      <td>0.476138</td>\n",
       "    </tr>\n",
       "    <tr>\n",
       "      <th>min</th>\n",
       "      <td>0.000000</td>\n",
       "      <td>0.000000</td>\n",
       "      <td>71.000000</td>\n",
       "      <td>35.000000</td>\n",
       "      <td>0.000000</td>\n",
       "      <td>4.000000</td>\n",
       "      <td>7.527000e+03</td>\n",
       "      <td>7.453000e+03</td>\n",
       "      <td>3.000000</td>\n",
       "      <td>3.445293</td>\n",
       "      <td>0.000000</td>\n",
       "      <td>0.000000</td>\n",
       "      <td>0.000000</td>\n",
       "      <td>0.000000</td>\n",
       "      <td>0.000000</td>\n",
       "      <td>1.000000</td>\n",
       "    </tr>\n",
       "    <tr>\n",
       "      <th>25%</th>\n",
       "      <td>0.000000</td>\n",
       "      <td>0.000000</td>\n",
       "      <td>127.000000</td>\n",
       "      <td>42.000000</td>\n",
       "      <td>53.000000</td>\n",
       "      <td>192.000000</td>\n",
       "      <td>4.662742e+05</td>\n",
       "      <td>4.666918e+05</td>\n",
       "      <td>234.000000</td>\n",
       "      <td>234.335948</td>\n",
       "      <td>0.000000</td>\n",
       "      <td>0.000000</td>\n",
       "      <td>0.000000</td>\n",
       "      <td>0.000000</td>\n",
       "      <td>0.000000</td>\n",
       "      <td>1.000000</td>\n",
       "    </tr>\n",
       "    <tr>\n",
       "      <th>50%</th>\n",
       "      <td>0.000000</td>\n",
       "      <td>1.000000</td>\n",
       "      <td>137.000000</td>\n",
       "      <td>66.000000</td>\n",
       "      <td>407.500000</td>\n",
       "      <td>457.000000</td>\n",
       "      <td>1.216168e+06</td>\n",
       "      <td>1.214700e+06</td>\n",
       "      <td>346.000000</td>\n",
       "      <td>346.044490</td>\n",
       "      <td>0.000000</td>\n",
       "      <td>0.000000</td>\n",
       "      <td>0.000000</td>\n",
       "      <td>0.000000</td>\n",
       "      <td>0.000000</td>\n",
       "      <td>1.000000</td>\n",
       "    </tr>\n",
       "    <tr>\n",
       "      <th>75%</th>\n",
       "      <td>1.000000</td>\n",
       "      <td>1.000000</td>\n",
       "      <td>146.000000</td>\n",
       "      <td>83.000000</td>\n",
       "      <td>1041.750000</td>\n",
       "      <td>1064.000000</td>\n",
       "      <td>2.210012e+06</td>\n",
       "      <td>2.210076e+06</td>\n",
       "      <td>915.250000</td>\n",
       "      <td>915.367817</td>\n",
       "      <td>0.000000</td>\n",
       "      <td>0.000000</td>\n",
       "      <td>0.000000</td>\n",
       "      <td>0.000000</td>\n",
       "      <td>0.000000</td>\n",
       "      <td>2.000000</td>\n",
       "    </tr>\n",
       "    <tr>\n",
       "      <th>max</th>\n",
       "      <td>1.000000</td>\n",
       "      <td>1.000000</td>\n",
       "      <td>266.000000</td>\n",
       "      <td>305.000000</td>\n",
       "      <td>1692.000000</td>\n",
       "      <td>1717.000000</td>\n",
       "      <td>1.291748e+07</td>\n",
       "      <td>1.291731e+07</td>\n",
       "      <td>37392.000000</td>\n",
       "      <td>37392.672970</td>\n",
       "      <td>1.000000</td>\n",
       "      <td>1.000000</td>\n",
       "      <td>1.000000</td>\n",
       "      <td>1.000000</td>\n",
       "      <td>1.000000</td>\n",
       "      <td>2.000000</td>\n",
       "    </tr>\n",
       "  </tbody>\n",
       "</table>\n",
       "</div>"
      ],
      "text/plain": [
       "       grade_A_Component_1  grade_A_Component_2  max_luminosity    thickness  \\\n",
       "count          1358.000000          1358.000000     1358.000000  1358.000000   \n",
       "mean              0.406480             0.593520      137.893225    78.977909   \n",
       "std               0.491357             0.491357       20.480512    55.324842   \n",
       "min               0.000000             0.000000       71.000000    35.000000   \n",
       "25%               0.000000             0.000000      127.000000    42.000000   \n",
       "50%               0.000000             1.000000      137.000000    66.000000   \n",
       "75%               1.000000             1.000000      146.000000    83.000000   \n",
       "max               1.000000             1.000000      266.000000   305.000000   \n",
       "\n",
       "              xmin         xmax          ymin          ymax    pixel_area  \\\n",
       "count  1358.000000  1358.000000  1.358000e+03  1.358000e+03   1358.000000   \n",
       "mean    567.370398   614.032401  1.660107e+06  1.660139e+06   1903.402798   \n",
       "std     522.013094   500.505513  1.778153e+06  1.778177e+06   3839.156721   \n",
       "min       0.000000     4.000000  7.527000e+03  7.453000e+03      3.000000   \n",
       "25%      53.000000   192.000000  4.662742e+05  4.666918e+05    234.000000   \n",
       "50%     407.500000   457.000000  1.216168e+06  1.214700e+06    346.000000   \n",
       "75%    1041.750000  1064.000000  2.210012e+06  2.210076e+06    915.250000   \n",
       "max    1692.000000  1717.000000  1.291748e+07  1.291731e+07  37392.000000   \n",
       "\n",
       "           log_area  x_component_1  x_component_2  x_component_3  \\\n",
       "count   1358.000000    1358.000000    1358.000000    1358.000000   \n",
       "mean    1903.896240       0.081738       0.106038       0.197349   \n",
       "std     3839.163241       0.274066       0.308000       0.398145   \n",
       "min        3.445293       0.000000       0.000000       0.000000   \n",
       "25%      234.335948       0.000000       0.000000       0.000000   \n",
       "50%      346.044490       0.000000       0.000000       0.000000   \n",
       "75%      915.367817       0.000000       0.000000       0.000000   \n",
       "max    37392.672970       1.000000       1.000000       1.000000   \n",
       "\n",
       "       x_component_4  x_component_5        class  \n",
       "count    1358.000000    1358.000000  1358.000000  \n",
       "mean        0.035346       0.027982     1.346834  \n",
       "std         0.184721       0.164983     0.476138  \n",
       "min         0.000000       0.000000     1.000000  \n",
       "25%         0.000000       0.000000     1.000000  \n",
       "50%         0.000000       0.000000     1.000000  \n",
       "75%         0.000000       0.000000     2.000000  \n",
       "max         1.000000       1.000000     2.000000  "
      ]
     },
     "execution_count": 9,
     "metadata": {},
     "output_type": "execute_result"
    }
   ],
   "source": [
    "train_df.describe()"
   ]
  },
  {
   "cell_type": "code",
   "execution_count": 10,
   "metadata": {},
   "outputs": [
    {
     "data": {
      "text/html": [
       "<div>\n",
       "<style scoped>\n",
       "    .dataframe tbody tr th:only-of-type {\n",
       "        vertical-align: middle;\n",
       "    }\n",
       "\n",
       "    .dataframe tbody tr th {\n",
       "        vertical-align: top;\n",
       "    }\n",
       "\n",
       "    .dataframe thead th {\n",
       "        text-align: right;\n",
       "    }\n",
       "</style>\n",
       "<table border=\"1\" class=\"dataframe\">\n",
       "  <thead>\n",
       "    <tr style=\"text-align: right;\">\n",
       "      <th></th>\n",
       "      <th>grade_A_Component_1</th>\n",
       "      <th>grade_A_Component_2</th>\n",
       "      <th>max_luminosity</th>\n",
       "      <th>thickness</th>\n",
       "      <th>xmin</th>\n",
       "      <th>xmax</th>\n",
       "      <th>ymin</th>\n",
       "      <th>ymax</th>\n",
       "      <th>pixel_area</th>\n",
       "      <th>log_area</th>\n",
       "      <th>x_component_1</th>\n",
       "      <th>x_component_2</th>\n",
       "      <th>x_component_3</th>\n",
       "      <th>x_component_4</th>\n",
       "      <th>x_component_5</th>\n",
       "    </tr>\n",
       "  </thead>\n",
       "  <tbody>\n",
       "    <tr>\n",
       "      <th>0</th>\n",
       "      <td>1</td>\n",
       "      <td>0</td>\n",
       "      <td>123</td>\n",
       "      <td>65</td>\n",
       "      <td>33</td>\n",
       "      <td>54</td>\n",
       "      <td>1646439</td>\n",
       "      <td>1646893</td>\n",
       "      <td>632</td>\n",
       "      <td>632.391749</td>\n",
       "      <td>0</td>\n",
       "      <td>1</td>\n",
       "      <td>0</td>\n",
       "      <td>0</td>\n",
       "      <td>0</td>\n",
       "    </tr>\n",
       "    <tr>\n",
       "      <th>1</th>\n",
       "      <td>0</td>\n",
       "      <td>1</td>\n",
       "      <td>158</td>\n",
       "      <td>99</td>\n",
       "      <td>125</td>\n",
       "      <td>132</td>\n",
       "      <td>189874</td>\n",
       "      <td>189529</td>\n",
       "      <td>421</td>\n",
       "      <td>421.928609</td>\n",
       "      <td>0</td>\n",
       "      <td>0</td>\n",
       "      <td>0</td>\n",
       "      <td>0</td>\n",
       "      <td>0</td>\n",
       "    </tr>\n",
       "    <tr>\n",
       "      <th>2</th>\n",
       "      <td>0</td>\n",
       "      <td>1</td>\n",
       "      <td>120</td>\n",
       "      <td>35</td>\n",
       "      <td>64</td>\n",
       "      <td>75</td>\n",
       "      <td>12986873</td>\n",
       "      <td>12986862</td>\n",
       "      <td>272</td>\n",
       "      <td>272.212214</td>\n",
       "      <td>1</td>\n",
       "      <td>0</td>\n",
       "      <td>0</td>\n",
       "      <td>0</td>\n",
       "      <td>0</td>\n",
       "    </tr>\n",
       "    <tr>\n",
       "      <th>3</th>\n",
       "      <td>0</td>\n",
       "      <td>1</td>\n",
       "      <td>130</td>\n",
       "      <td>39</td>\n",
       "      <td>57</td>\n",
       "      <td>177</td>\n",
       "      <td>309634</td>\n",
       "      <td>310824</td>\n",
       "      <td>3312</td>\n",
       "      <td>3312.310581</td>\n",
       "      <td>0</td>\n",
       "      <td>0</td>\n",
       "      <td>1</td>\n",
       "      <td>0</td>\n",
       "      <td>0</td>\n",
       "    </tr>\n",
       "    <tr>\n",
       "      <th>4</th>\n",
       "      <td>1</td>\n",
       "      <td>0</td>\n",
       "      <td>142</td>\n",
       "      <td>75</td>\n",
       "      <td>23</td>\n",
       "      <td>79</td>\n",
       "      <td>5368307</td>\n",
       "      <td>5367467</td>\n",
       "      <td>862</td>\n",
       "      <td>862.499179</td>\n",
       "      <td>0</td>\n",
       "      <td>0</td>\n",
       "      <td>0</td>\n",
       "      <td>0</td>\n",
       "      <td>0</td>\n",
       "    </tr>\n",
       "  </tbody>\n",
       "</table>\n",
       "</div>"
      ],
      "text/plain": [
       "   grade_A_Component_1  grade_A_Component_2  max_luminosity  thickness  xmin  \\\n",
       "0                    1                    0             123         65    33   \n",
       "1                    0                    1             158         99   125   \n",
       "2                    0                    1             120         35    64   \n",
       "3                    0                    1             130         39    57   \n",
       "4                    1                    0             142         75    23   \n",
       "\n",
       "   xmax      ymin      ymax  pixel_area     log_area  x_component_1  \\\n",
       "0    54   1646439   1646893         632   632.391749              0   \n",
       "1   132    189874    189529         421   421.928609              0   \n",
       "2    75  12986873  12986862         272   272.212214              1   \n",
       "3   177    309634    310824        3312  3312.310581              0   \n",
       "4    79   5368307   5367467         862   862.499179              0   \n",
       "\n",
       "   x_component_2  x_component_3  x_component_4  x_component_5  \n",
       "0              1              0              0              0  \n",
       "1              0              0              0              0  \n",
       "2              0              0              0              0  \n",
       "3              0              1              0              0  \n",
       "4              0              0              0              0  "
      ]
     },
     "execution_count": 10,
     "metadata": {},
     "output_type": "execute_result"
    }
   ],
   "source": [
    "test_df.head()"
   ]
  },
  {
   "cell_type": "code",
   "execution_count": 11,
   "metadata": {},
   "outputs": [
    {
     "data": {
      "text/plain": [
       "grade_A_Component_1    False\n",
       "grade_A_Component_2    False\n",
       "max_luminosity         False\n",
       "thickness              False\n",
       "xmin                   False\n",
       "xmax                   False\n",
       "ymin                   False\n",
       "ymax                   False\n",
       "pixel_area             False\n",
       "log_area               False\n",
       "x_component_1          False\n",
       "x_component_2          False\n",
       "x_component_3          False\n",
       "x_component_4          False\n",
       "x_component_5          False\n",
       "class                  False\n",
       "dtype: bool"
      ]
     },
     "execution_count": 11,
     "metadata": {},
     "output_type": "execute_result"
    }
   ],
   "source": [
    "train_df.isna().any()"
   ]
  },
  {
   "cell_type": "code",
   "execution_count": 12,
   "metadata": {},
   "outputs": [
    {
     "data": {
      "text/plain": [
       "grade_A_Component_1      int64\n",
       "grade_A_Component_2      int64\n",
       "max_luminosity           int64\n",
       "thickness                int64\n",
       "xmin                     int64\n",
       "xmax                     int64\n",
       "ymin                     int64\n",
       "ymax                     int64\n",
       "pixel_area               int64\n",
       "log_area               float64\n",
       "x_component_1            int64\n",
       "x_component_2            int64\n",
       "x_component_3            int64\n",
       "x_component_4            int64\n",
       "x_component_5            int64\n",
       "class                    int64\n",
       "dtype: object"
      ]
     },
     "execution_count": 12,
     "metadata": {},
     "output_type": "execute_result"
    }
   ],
   "source": [
    "train_df.dtypes"
   ]
  },
  {
   "cell_type": "markdown",
   "metadata": {},
   "source": [
    "### Correlation and Data Normalization"
   ]
  },
  {
   "cell_type": "code",
   "execution_count": 13,
   "metadata": {},
   "outputs": [
    {
     "data": {
      "text/plain": [
       "(1941, 15)"
      ]
     },
     "execution_count": 13,
     "metadata": {},
     "output_type": "execute_result"
    }
   ],
   "source": [
    "df1 = train_df.loc[:, train_df.columns != 'class']\n",
    "df2 = test_df.copy()\n",
    "df = df1.append(df2, ignore_index=True)\n",
    "df.shape"
   ]
  },
  {
   "cell_type": "code",
   "execution_count": 14,
   "metadata": {
    "scrolled": true
   },
   "outputs": [
    {
     "data": {
      "text/html": [
       "<div>\n",
       "<style scoped>\n",
       "    .dataframe tbody tr th:only-of-type {\n",
       "        vertical-align: middle;\n",
       "    }\n",
       "\n",
       "    .dataframe tbody tr th {\n",
       "        vertical-align: top;\n",
       "    }\n",
       "\n",
       "    .dataframe thead th {\n",
       "        text-align: right;\n",
       "    }\n",
       "</style>\n",
       "<table border=\"1\" class=\"dataframe\">\n",
       "  <thead>\n",
       "    <tr style=\"text-align: right;\">\n",
       "      <th></th>\n",
       "      <th>grade_A_Component_1</th>\n",
       "      <th>grade_A_Component_2</th>\n",
       "      <th>max_luminosity</th>\n",
       "      <th>thickness</th>\n",
       "      <th>xmin</th>\n",
       "      <th>xmax</th>\n",
       "      <th>ymin</th>\n",
       "      <th>ymax</th>\n",
       "      <th>pixel_area</th>\n",
       "      <th>log_area</th>\n",
       "      <th>x_component_1</th>\n",
       "      <th>x_component_2</th>\n",
       "      <th>x_component_3</th>\n",
       "      <th>x_component_4</th>\n",
       "      <th>x_component_5</th>\n",
       "    </tr>\n",
       "  </thead>\n",
       "  <tbody>\n",
       "    <tr>\n",
       "      <th>grade_A_Component_1</th>\n",
       "      <td>1.000000</td>\n",
       "      <td>-1.000000</td>\n",
       "      <td>-0.189398</td>\n",
       "      <td>0.125735</td>\n",
       "      <td>0.144336</td>\n",
       "      <td>0.112055</td>\n",
       "      <td>0.075178</td>\n",
       "      <td>0.075163</td>\n",
       "      <td>-0.235254</td>\n",
       "      <td>-0.235255</td>\n",
       "      <td>-0.054792</td>\n",
       "      <td>0.339488</td>\n",
       "      <td>-0.407730</td>\n",
       "      <td>-0.154796</td>\n",
       "      <td>-0.082489</td>\n",
       "    </tr>\n",
       "    <tr>\n",
       "      <th>grade_A_Component_2</th>\n",
       "      <td>-1.000000</td>\n",
       "      <td>1.000000</td>\n",
       "      <td>0.189398</td>\n",
       "      <td>-0.125735</td>\n",
       "      <td>-0.144336</td>\n",
       "      <td>-0.112055</td>\n",
       "      <td>-0.075178</td>\n",
       "      <td>-0.075163</td>\n",
       "      <td>0.235254</td>\n",
       "      <td>0.235255</td>\n",
       "      <td>0.054792</td>\n",
       "      <td>-0.339488</td>\n",
       "      <td>0.407730</td>\n",
       "      <td>0.154796</td>\n",
       "      <td>0.082489</td>\n",
       "    </tr>\n",
       "    <tr>\n",
       "      <th>max_luminosity</th>\n",
       "      <td>-0.189398</td>\n",
       "      <td>0.189398</td>\n",
       "      <td>1.000000</td>\n",
       "      <td>-0.108190</td>\n",
       "      <td>-0.069791</td>\n",
       "      <td>-0.059099</td>\n",
       "      <td>-0.062571</td>\n",
       "      <td>-0.062552</td>\n",
       "      <td>0.102239</td>\n",
       "      <td>0.102237</td>\n",
       "      <td>-0.041783</td>\n",
       "      <td>-0.172831</td>\n",
       "      <td>0.160839</td>\n",
       "      <td>0.072448</td>\n",
       "      <td>0.010398</td>\n",
       "    </tr>\n",
       "    <tr>\n",
       "      <th>thickness</th>\n",
       "      <td>0.125735</td>\n",
       "      <td>-0.125735</td>\n",
       "      <td>-0.108190</td>\n",
       "      <td>1.000000</td>\n",
       "      <td>0.135998</td>\n",
       "      <td>0.105631</td>\n",
       "      <td>-0.208083</td>\n",
       "      <td>-0.208083</td>\n",
       "      <td>-0.182606</td>\n",
       "      <td>-0.182606</td>\n",
       "      <td>0.076165</td>\n",
       "      <td>-0.023559</td>\n",
       "      <td>-0.348974</td>\n",
       "      <td>-0.100499</td>\n",
       "      <td>0.018345</td>\n",
       "    </tr>\n",
       "    <tr>\n",
       "      <th>xmin</th>\n",
       "      <td>0.144336</td>\n",
       "      <td>-0.144336</td>\n",
       "      <td>-0.069791</td>\n",
       "      <td>0.135998</td>\n",
       "      <td>1.000000</td>\n",
       "      <td>0.988302</td>\n",
       "      <td>0.041758</td>\n",
       "      <td>0.041743</td>\n",
       "      <td>-0.307271</td>\n",
       "      <td>-0.307271</td>\n",
       "      <td>0.134958</td>\n",
       "      <td>-0.228868</td>\n",
       "      <td>-0.419369</td>\n",
       "      <td>0.073798</td>\n",
       "      <td>0.103782</td>\n",
       "    </tr>\n",
       "    <tr>\n",
       "      <th>xmax</th>\n",
       "      <td>0.112055</td>\n",
       "      <td>-0.112055</td>\n",
       "      <td>-0.059099</td>\n",
       "      <td>0.105631</td>\n",
       "      <td>0.988302</td>\n",
       "      <td>1.000000</td>\n",
       "      <td>0.052009</td>\n",
       "      <td>0.051998</td>\n",
       "      <td>-0.225367</td>\n",
       "      <td>-0.225366</td>\n",
       "      <td>0.119787</td>\n",
       "      <td>-0.258291</td>\n",
       "      <td>-0.336107</td>\n",
       "      <td>0.061456</td>\n",
       "      <td>0.096582</td>\n",
       "    </tr>\n",
       "    <tr>\n",
       "      <th>ymin</th>\n",
       "      <td>0.075178</td>\n",
       "      <td>-0.075178</td>\n",
       "      <td>-0.062571</td>\n",
       "      <td>-0.208083</td>\n",
       "      <td>0.041758</td>\n",
       "      <td>0.052009</td>\n",
       "      <td>1.000000</td>\n",
       "      <td>1.000000</td>\n",
       "      <td>0.017808</td>\n",
       "      <td>0.017806</td>\n",
       "      <td>0.036476</td>\n",
       "      <td>-0.063310</td>\n",
       "      <td>-0.000423</td>\n",
       "      <td>-0.066604</td>\n",
       "      <td>0.064257</td>\n",
       "    </tr>\n",
       "    <tr>\n",
       "      <th>ymax</th>\n",
       "      <td>0.075163</td>\n",
       "      <td>-0.075163</td>\n",
       "      <td>-0.062552</td>\n",
       "      <td>-0.208083</td>\n",
       "      <td>0.041743</td>\n",
       "      <td>0.051998</td>\n",
       "      <td>1.000000</td>\n",
       "      <td>1.000000</td>\n",
       "      <td>0.017980</td>\n",
       "      <td>0.017979</td>\n",
       "      <td>0.036491</td>\n",
       "      <td>-0.063331</td>\n",
       "      <td>-0.000403</td>\n",
       "      <td>-0.066606</td>\n",
       "      <td>0.064257</td>\n",
       "    </tr>\n",
       "    <tr>\n",
       "      <th>pixel_area</th>\n",
       "      <td>-0.235254</td>\n",
       "      <td>0.235254</td>\n",
       "      <td>0.102239</td>\n",
       "      <td>-0.182606</td>\n",
       "      <td>-0.307271</td>\n",
       "      <td>-0.225367</td>\n",
       "      <td>0.017808</td>\n",
       "      <td>0.017980</td>\n",
       "      <td>1.000000</td>\n",
       "      <td>1.000000</td>\n",
       "      <td>-0.076718</td>\n",
       "      <td>-0.087790</td>\n",
       "      <td>0.556697</td>\n",
       "      <td>-0.071250</td>\n",
       "      <td>-0.050343</td>\n",
       "    </tr>\n",
       "    <tr>\n",
       "      <th>log_area</th>\n",
       "      <td>-0.235255</td>\n",
       "      <td>0.235255</td>\n",
       "      <td>0.102237</td>\n",
       "      <td>-0.182606</td>\n",
       "      <td>-0.307271</td>\n",
       "      <td>-0.225366</td>\n",
       "      <td>0.017806</td>\n",
       "      <td>0.017979</td>\n",
       "      <td>1.000000</td>\n",
       "      <td>1.000000</td>\n",
       "      <td>-0.076717</td>\n",
       "      <td>-0.087789</td>\n",
       "      <td>0.556698</td>\n",
       "      <td>-0.071249</td>\n",
       "      <td>-0.050343</td>\n",
       "    </tr>\n",
       "    <tr>\n",
       "      <th>x_component_1</th>\n",
       "      <td>-0.054792</td>\n",
       "      <td>0.054792</td>\n",
       "      <td>-0.041783</td>\n",
       "      <td>0.076165</td>\n",
       "      <td>0.134958</td>\n",
       "      <td>0.119787</td>\n",
       "      <td>0.036476</td>\n",
       "      <td>0.036491</td>\n",
       "      <td>-0.076718</td>\n",
       "      <td>-0.076717</td>\n",
       "      <td>1.000000</td>\n",
       "      <td>-0.098059</td>\n",
       "      <td>-0.149512</td>\n",
       "      <td>-0.058427</td>\n",
       "      <td>-0.050835</td>\n",
       "    </tr>\n",
       "    <tr>\n",
       "      <th>x_component_2</th>\n",
       "      <td>0.339488</td>\n",
       "      <td>-0.339488</td>\n",
       "      <td>-0.172831</td>\n",
       "      <td>-0.023559</td>\n",
       "      <td>-0.228868</td>\n",
       "      <td>-0.258291</td>\n",
       "      <td>-0.063310</td>\n",
       "      <td>-0.063331</td>\n",
       "      <td>-0.087790</td>\n",
       "      <td>-0.087789</td>\n",
       "      <td>-0.098059</td>\n",
       "      <td>1.000000</td>\n",
       "      <td>-0.165446</td>\n",
       "      <td>-0.064654</td>\n",
       "      <td>-0.056253</td>\n",
       "    </tr>\n",
       "    <tr>\n",
       "      <th>x_component_3</th>\n",
       "      <td>-0.407730</td>\n",
       "      <td>0.407730</td>\n",
       "      <td>0.160839</td>\n",
       "      <td>-0.348974</td>\n",
       "      <td>-0.419369</td>\n",
       "      <td>-0.336107</td>\n",
       "      <td>-0.000423</td>\n",
       "      <td>-0.000403</td>\n",
       "      <td>0.556697</td>\n",
       "      <td>0.556698</td>\n",
       "      <td>-0.149512</td>\n",
       "      <td>-0.165446</td>\n",
       "      <td>1.000000</td>\n",
       "      <td>-0.098579</td>\n",
       "      <td>-0.085770</td>\n",
       "    </tr>\n",
       "    <tr>\n",
       "      <th>x_component_4</th>\n",
       "      <td>-0.154796</td>\n",
       "      <td>0.154796</td>\n",
       "      <td>0.072448</td>\n",
       "      <td>-0.100499</td>\n",
       "      <td>0.073798</td>\n",
       "      <td>0.061456</td>\n",
       "      <td>-0.066604</td>\n",
       "      <td>-0.066606</td>\n",
       "      <td>-0.071250</td>\n",
       "      <td>-0.071249</td>\n",
       "      <td>-0.058427</td>\n",
       "      <td>-0.064654</td>\n",
       "      <td>-0.098579</td>\n",
       "      <td>1.000000</td>\n",
       "      <td>-0.033518</td>\n",
       "    </tr>\n",
       "    <tr>\n",
       "      <th>x_component_5</th>\n",
       "      <td>-0.082489</td>\n",
       "      <td>0.082489</td>\n",
       "      <td>0.010398</td>\n",
       "      <td>0.018345</td>\n",
       "      <td>0.103782</td>\n",
       "      <td>0.096582</td>\n",
       "      <td>0.064257</td>\n",
       "      <td>0.064257</td>\n",
       "      <td>-0.050343</td>\n",
       "      <td>-0.050343</td>\n",
       "      <td>-0.050835</td>\n",
       "      <td>-0.056253</td>\n",
       "      <td>-0.085770</td>\n",
       "      <td>-0.033518</td>\n",
       "      <td>1.000000</td>\n",
       "    </tr>\n",
       "  </tbody>\n",
       "</table>\n",
       "</div>"
      ],
      "text/plain": [
       "                     grade_A_Component_1  grade_A_Component_2  max_luminosity  \\\n",
       "grade_A_Component_1             1.000000            -1.000000       -0.189398   \n",
       "grade_A_Component_2            -1.000000             1.000000        0.189398   \n",
       "max_luminosity                 -0.189398             0.189398        1.000000   \n",
       "thickness                       0.125735            -0.125735       -0.108190   \n",
       "xmin                            0.144336            -0.144336       -0.069791   \n",
       "xmax                            0.112055            -0.112055       -0.059099   \n",
       "ymin                            0.075178            -0.075178       -0.062571   \n",
       "ymax                            0.075163            -0.075163       -0.062552   \n",
       "pixel_area                     -0.235254             0.235254        0.102239   \n",
       "log_area                       -0.235255             0.235255        0.102237   \n",
       "x_component_1                  -0.054792             0.054792       -0.041783   \n",
       "x_component_2                   0.339488            -0.339488       -0.172831   \n",
       "x_component_3                  -0.407730             0.407730        0.160839   \n",
       "x_component_4                  -0.154796             0.154796        0.072448   \n",
       "x_component_5                  -0.082489             0.082489        0.010398   \n",
       "\n",
       "                     thickness      xmin      xmax      ymin      ymax  \\\n",
       "grade_A_Component_1   0.125735  0.144336  0.112055  0.075178  0.075163   \n",
       "grade_A_Component_2  -0.125735 -0.144336 -0.112055 -0.075178 -0.075163   \n",
       "max_luminosity       -0.108190 -0.069791 -0.059099 -0.062571 -0.062552   \n",
       "thickness             1.000000  0.135998  0.105631 -0.208083 -0.208083   \n",
       "xmin                  0.135998  1.000000  0.988302  0.041758  0.041743   \n",
       "xmax                  0.105631  0.988302  1.000000  0.052009  0.051998   \n",
       "ymin                 -0.208083  0.041758  0.052009  1.000000  1.000000   \n",
       "ymax                 -0.208083  0.041743  0.051998  1.000000  1.000000   \n",
       "pixel_area           -0.182606 -0.307271 -0.225367  0.017808  0.017980   \n",
       "log_area             -0.182606 -0.307271 -0.225366  0.017806  0.017979   \n",
       "x_component_1         0.076165  0.134958  0.119787  0.036476  0.036491   \n",
       "x_component_2        -0.023559 -0.228868 -0.258291 -0.063310 -0.063331   \n",
       "x_component_3        -0.348974 -0.419369 -0.336107 -0.000423 -0.000403   \n",
       "x_component_4        -0.100499  0.073798  0.061456 -0.066604 -0.066606   \n",
       "x_component_5         0.018345  0.103782  0.096582  0.064257  0.064257   \n",
       "\n",
       "                     pixel_area  log_area  x_component_1  x_component_2  \\\n",
       "grade_A_Component_1   -0.235254 -0.235255      -0.054792       0.339488   \n",
       "grade_A_Component_2    0.235254  0.235255       0.054792      -0.339488   \n",
       "max_luminosity         0.102239  0.102237      -0.041783      -0.172831   \n",
       "thickness             -0.182606 -0.182606       0.076165      -0.023559   \n",
       "xmin                  -0.307271 -0.307271       0.134958      -0.228868   \n",
       "xmax                  -0.225367 -0.225366       0.119787      -0.258291   \n",
       "ymin                   0.017808  0.017806       0.036476      -0.063310   \n",
       "ymax                   0.017980  0.017979       0.036491      -0.063331   \n",
       "pixel_area             1.000000  1.000000      -0.076718      -0.087790   \n",
       "log_area               1.000000  1.000000      -0.076717      -0.087789   \n",
       "x_component_1         -0.076718 -0.076717       1.000000      -0.098059   \n",
       "x_component_2         -0.087790 -0.087789      -0.098059       1.000000   \n",
       "x_component_3          0.556697  0.556698      -0.149512      -0.165446   \n",
       "x_component_4         -0.071250 -0.071249      -0.058427      -0.064654   \n",
       "x_component_5         -0.050343 -0.050343      -0.050835      -0.056253   \n",
       "\n",
       "                     x_component_3  x_component_4  x_component_5  \n",
       "grade_A_Component_1      -0.407730      -0.154796      -0.082489  \n",
       "grade_A_Component_2       0.407730       0.154796       0.082489  \n",
       "max_luminosity            0.160839       0.072448       0.010398  \n",
       "thickness                -0.348974      -0.100499       0.018345  \n",
       "xmin                     -0.419369       0.073798       0.103782  \n",
       "xmax                     -0.336107       0.061456       0.096582  \n",
       "ymin                     -0.000423      -0.066604       0.064257  \n",
       "ymax                     -0.000403      -0.066606       0.064257  \n",
       "pixel_area                0.556697      -0.071250      -0.050343  \n",
       "log_area                  0.556698      -0.071249      -0.050343  \n",
       "x_component_1            -0.149512      -0.058427      -0.050835  \n",
       "x_component_2            -0.165446      -0.064654      -0.056253  \n",
       "x_component_3             1.000000      -0.098579      -0.085770  \n",
       "x_component_4            -0.098579       1.000000      -0.033518  \n",
       "x_component_5            -0.085770      -0.033518       1.000000  "
      ]
     },
     "execution_count": 14,
     "metadata": {},
     "output_type": "execute_result"
    }
   ],
   "source": [
    "df.corr()"
   ]
  },
  {
   "cell_type": "code",
   "execution_count": 15,
   "metadata": {},
   "outputs": [],
   "source": [
    "train_df_new = train_df.drop(['xmin', 'ymin', 'pixel_area'], axis = 1) \n",
    "test_df_new = test_df.drop(['xmin', 'ymin', 'pixel_area'], axis = 1) "
   ]
  },
  {
   "cell_type": "code",
   "execution_count": 16,
   "metadata": {},
   "outputs": [
    {
     "data": {
      "text/plain": [
       "(1941, 12)"
      ]
     },
     "execution_count": 16,
     "metadata": {},
     "output_type": "execute_result"
    }
   ],
   "source": [
    "df1 = train_df_new.loc[:, train_df_new.columns != 'class']\n",
    "df2 = test_df_new.copy()\n",
    "df = df1.append(df2, ignore_index=True)\n",
    "df.shape"
   ]
  },
  {
   "cell_type": "markdown",
   "metadata": {},
   "source": [
    "#### SVD"
   ]
  },
  {
   "cell_type": "code",
   "execution_count": 165,
   "metadata": {},
   "outputs": [],
   "source": [
    "svd = TruncatedSVD(2)\n",
    "glass_transformed = svd.fit_transform(df.values)"
   ]
  },
  {
   "cell_type": "code",
   "execution_count": 166,
   "metadata": {},
   "outputs": [
    {
     "data": {
      "text/plain": [
       "array([[ 9.47332114e+05, -1.31004908e+02],\n",
       "       [ 2.37962394e+06, -1.10308188e+03],\n",
       "       [ 1.03675416e+06, -3.22678905e+02],\n",
       "       ...,\n",
       "       [ 5.11803745e+05,  2.08878949e+04],\n",
       "       [ 1.38019590e+05,  9.08799527e+03],\n",
       "       [ 1.41399796e+06, -8.27597110e+02]])"
      ]
     },
     "execution_count": 166,
     "metadata": {},
     "output_type": "execute_result"
    }
   ],
   "source": [
    "glass_transformed"
   ]
  },
  {
   "cell_type": "code",
   "execution_count": 171,
   "metadata": {},
   "outputs": [],
   "source": [
    "glass_transformed_train = glass_transformed[:len(train_norm_df)]\n",
    "glass_transformed_test = glass_transformed[len(train_norm_df):]"
   ]
  },
  {
   "cell_type": "code",
   "execution_count": 172,
   "metadata": {},
   "outputs": [
    {
     "name": "stdout",
     "output_type": "stream",
     "text": [
      "1358\n",
      "583\n"
     ]
    }
   ],
   "source": [
    "print (len(glass_transformed_train))\n",
    "print (len(glass_transformed_test))"
   ]
  },
  {
   "cell_type": "code",
   "execution_count": 173,
   "metadata": {},
   "outputs": [
    {
     "name": "stdout",
     "output_type": "stream",
     "text": [
      "1358\n",
      "583\n"
     ]
    }
   ],
   "source": [
    "print (len(glass_transformed_train))\n",
    "print (len(glass_transformed_test))"
   ]
  },
  {
   "cell_type": "code",
   "execution_count": 180,
   "metadata": {},
   "outputs": [],
   "source": [
    "glass_svd = pd.DataFrame(glass_transformed_train, columns = ['A','B'])\n",
    "glass_svd['type'] = train_df['class']"
   ]
  },
  {
   "cell_type": "code",
   "execution_count": 183,
   "metadata": {},
   "outputs": [
    {
     "data": {
      "image/png": "[encoded data removed]",
      "text/plain": [
       "<Figure size 432x288 with 1 Axes>"
      ]
     },
     "metadata": {
      "needs_background": "light"
     },
     "output_type": "display_data"
    }
   ],
   "source": [
    "plot1 = plt.scatter(glass_svd[glass_svd['type'] == 1]['A'], glass_svd[glass_svd['type'] == 1]['B'], c = 'red')\n",
    "plot2 = plt.scatter(glass_svd[glass_svd['type'] == 2]['A'], glass_svd[glass_svd['type'] == 2]['B'], c = 'blue')\n",
    "plt.xlabel('A')\n",
    "plt.ylabel('B')\n",
    "plt.legend([plot1, plot2], ['setosa', 'versicolor', ])\n",
    "plt.title('Irisal/petal length')\n",
    "plt.show()"
   ]
  },
  {
   "cell_type": "code",
   "execution_count": null,
   "metadata": {},
   "outputs": [],
   "source": []
  },
  {
   "cell_type": "code",
   "execution_count": 17,
   "metadata": {},
   "outputs": [],
   "source": [
    "# fit scaler on training data\n",
    "norm = MinMaxScaler().fit(df)"
   ]
  },
  {
   "cell_type": "code",
   "execution_count": 18,
   "metadata": {},
   "outputs": [],
   "source": [
    "# transform training data\n",
    "train_norm = norm.transform(df1)\n",
    "\n",
    "# transform testing dataabs\n",
    "test_norm = norm.transform(df2)"
   ]
  },
  {
   "cell_type": "code",
   "execution_count": 19,
   "metadata": {},
   "outputs": [],
   "source": [
    "train_norm_df = pd.DataFrame(train_norm, columns=train_df_new.columns[:-1])\n",
    "test_norm_df = pd.DataFrame(test_norm, columns=train_df_new.columns[:-1])"
   ]
  },
  {
   "cell_type": "markdown",
   "metadata": {},
   "source": [
    "### Model Ready Data"
   ]
  },
  {
   "cell_type": "code",
   "execution_count": 146,
   "metadata": {},
   "outputs": [],
   "source": [
    "# X = train_df.loc[:, train_df.columns != 'class']\n",
    "# y = train_df[[\"class\"]]\n",
    "\n",
    "# # dividing X, y into train and test data \n",
    "# X_train, X_test, y_train, y_test = train_test_split(X, y, test_size=0.2, random_state = 10) "
   ]
  },
  {
   "cell_type": "code",
   "execution_count": 20,
   "metadata": {},
   "outputs": [],
   "source": [
    "X = train_norm_df\n",
    "#X = train_df.loc[:, train_df.columns != 'class']\n",
    "y = train_df[[\"class\"]]\n",
    "#y = y -1\n",
    "\n",
    "# dividing X, y into train and test data \n",
    "X_train, X_test, y_train, y_test = train_test_split(X, y, test_size=0.2, random_state = 10) "
   ]
  },
  {
   "cell_type": "markdown",
   "metadata": {},
   "source": [
    "## Build Model"
   ]
  },
  {
   "cell_type": "code",
   "execution_count": 103,
   "metadata": {},
   "outputs": [],
   "source": [
    "dtree_model = DecisionTreeClassifier(max_depth = 35).fit(X_train, y_train) \n",
    "dtree_predictions = dtree_model.predict(X_test) "
   ]
  },
  {
   "cell_type": "code",
   "execution_count": 104,
   "metadata": {},
   "outputs": [
    {
     "name": "stdout",
     "output_type": "stream",
     "text": [
      "0.8419117647058824\n"
     ]
    }
   ],
   "source": [
    "accuracy = dtree_model.score(X_test, y_test)\n",
    "print(accuracy)"
   ]
  },
  {
   "cell_type": "markdown",
   "metadata": {},
   "source": [
    "#### logistic regression"
   ]
  },
  {
   "cell_type": "code",
   "execution_count": 140,
   "metadata": {},
   "outputs": [
    {
     "name": "stderr",
     "output_type": "stream",
     "text": [
      "/opt/anaconda3/lib/python3.7/site-packages/sklearn/utils/validation.py:760: DataConversionWarning: A column-vector y was passed when a 1d array was expected. Please change the shape of y to (n_samples, ), for example using ravel().\n",
      "  y = column_or_1d(y, warn=True)\n"
     ]
    },
    {
     "data": {
      "text/plain": [
       "LogisticRegression(C=1.0, class_weight=None, dual=False, fit_intercept=True,\n",
       "                   intercept_scaling=1, l1_ratio=None, max_iter=100,\n",
       "                   multi_class='auto', n_jobs=None, penalty='l2',\n",
       "                   random_state=None, solver='lbfgs', tol=0.0001, verbose=0,\n",
       "                   warm_start=False)"
      ]
     },
     "execution_count": 140,
     "metadata": {},
     "output_type": "execute_result"
    }
   ],
   "source": [
    "lr = LogisticRegression()\n",
    "lr.fit(X_train, y_train)"
   ]
  },
  {
   "cell_type": "code",
   "execution_count": 141,
   "metadata": {},
   "outputs": [],
   "source": [
    "y_pred = lr.predict(X_test)"
   ]
  },
  {
   "cell_type": "code",
   "execution_count": 142,
   "metadata": {},
   "outputs": [
    {
     "data": {
      "text/plain": [
       "array([[0.97332988, 0.02667012],\n",
       "       [0.55988197, 0.44011803],\n",
       "       [0.55550366, 0.44449634],\n",
       "       [0.94692017, 0.05307983],\n",
       "       [0.97316708, 0.02683292],\n",
       "       [0.98073486, 0.01926514],\n",
       "       [0.97771944, 0.02228056],\n",
       "       [0.39935293, 0.60064707],\n",
       "       [0.9804275 , 0.0195725 ],\n",
       "       [0.97682419, 0.02317581],\n",
       "       [0.17075724, 0.82924276],\n",
       "       [0.36435544, 0.63564456],\n",
       "       [0.34468145, 0.65531855],\n",
       "       [0.30852336, 0.69147664],\n",
       "       [0.98180959, 0.01819041],\n",
       "       [0.16919457, 0.83080543],\n",
       "       [0.31802752, 0.68197248],\n",
       "       [0.22945712, 0.77054288],\n",
       "       [0.98029493, 0.01970507],\n",
       "       [0.31781858, 0.68218142],\n",
       "       [0.5534819 , 0.4465181 ],\n",
       "       [0.480875  , 0.519125  ],\n",
       "       [0.97708902, 0.02291098],\n",
       "       [0.94024515, 0.05975485],\n",
       "       [0.55119315, 0.44880685],\n",
       "       [0.13799245, 0.86200755],\n",
       "       [0.32760754, 0.67239246],\n",
       "       [0.97852085, 0.02147915],\n",
       "       [0.31719865, 0.68280135],\n",
       "       [0.31457118, 0.68542882],\n",
       "       [0.91129075, 0.08870925],\n",
       "       [0.50027583, 0.49972417],\n",
       "       [0.53313727, 0.46686273],\n",
       "       [0.98056057, 0.01943943],\n",
       "       [0.42480532, 0.57519468],\n",
       "       [0.22324527, 0.77675473],\n",
       "       [0.42812008, 0.57187992],\n",
       "       [0.97775523, 0.02224477],\n",
       "       [0.16811545, 0.83188455],\n",
       "       [0.91238725, 0.08761275],\n",
       "       [0.31389606, 0.68610394],\n",
       "       [0.9709651 , 0.0290349 ],\n",
       "       [0.97816288, 0.02183712],\n",
       "       [0.91088586, 0.08911414],\n",
       "       [0.53211751, 0.46788249],\n",
       "       [0.97735365, 0.02264635],\n",
       "       [0.61659968, 0.38340032],\n",
       "       [0.51545004, 0.48454996],\n",
       "       [0.97960007, 0.02039993],\n",
       "       [0.50469806, 0.49530194],\n",
       "       [0.36116751, 0.63883249],\n",
       "       [0.59046331, 0.40953669],\n",
       "       [0.30313341, 0.69686659],\n",
       "       [0.98479984, 0.01520016],\n",
       "       [0.98107959, 0.01892041],\n",
       "       [0.30588604, 0.69411396],\n",
       "       [0.21243629, 0.78756371],\n",
       "       [0.21238994, 0.78761006],\n",
       "       [0.32003548, 0.67996452],\n",
       "       [0.13165551, 0.86834449],\n",
       "       [0.2139664 , 0.7860336 ],\n",
       "       [0.29465876, 0.70534124],\n",
       "       [0.97654432, 0.02345568],\n",
       "       [0.55270137, 0.44729863],\n",
       "       [0.97233576, 0.02766424],\n",
       "       [0.15885967, 0.84114033],\n",
       "       [0.97395269, 0.02604731],\n",
       "       [0.5359253 , 0.4640747 ],\n",
       "       [0.47349875, 0.52650125],\n",
       "       [0.38519068, 0.61480932],\n",
       "       [0.98000704, 0.01999296],\n",
       "       [0.49224237, 0.50775763],\n",
       "       [0.5145141 , 0.4854859 ],\n",
       "       [0.88919783, 0.11080217],\n",
       "       [0.34390526, 0.65609474],\n",
       "       [0.37765431, 0.62234569],\n",
       "       [0.97581523, 0.02418477],\n",
       "       [0.12947619, 0.87052381],\n",
       "       [0.51921434, 0.48078566],\n",
       "       [0.55205674, 0.44794326],\n",
       "       [0.91416529, 0.08583471],\n",
       "       [0.39732525, 0.60267475],\n",
       "       [0.94785107, 0.05214893],\n",
       "       [0.56006067, 0.43993933],\n",
       "       [0.54041633, 0.45958367],\n",
       "       [0.97472214, 0.02527786],\n",
       "       [0.57626986, 0.42373014],\n",
       "       [0.56759484, 0.43240516],\n",
       "       [0.08594772, 0.91405228],\n",
       "       [0.98254054, 0.01745946],\n",
       "       [0.51211889, 0.48788111],\n",
       "       [0.56962515, 0.43037485],\n",
       "       [0.9815734 , 0.0184266 ],\n",
       "       [0.97840498, 0.02159502],\n",
       "       [0.53247377, 0.46752623],\n",
       "       [0.41286584, 0.58713416],\n",
       "       [0.37177918, 0.62822082],\n",
       "       [0.36827996, 0.63172004],\n",
       "       [0.97622671, 0.02377329],\n",
       "       [0.53122217, 0.46877783],\n",
       "       [0.41244819, 0.58755181],\n",
       "       [0.56420609, 0.43579391],\n",
       "       [0.33626309, 0.66373691],\n",
       "       [0.5581072 , 0.4418928 ],\n",
       "       [0.97784977, 0.02215023],\n",
       "       [0.19927103, 0.80072897],\n",
       "       [0.52111661, 0.47888339],\n",
       "       [0.97552027, 0.02447973],\n",
       "       [0.31257937, 0.68742063],\n",
       "       [0.97432462, 0.02567538],\n",
       "       [0.15405634, 0.84594366],\n",
       "       [0.97570761, 0.02429239],\n",
       "       [0.41686652, 0.58313348],\n",
       "       [0.97603055, 0.02396945],\n",
       "       [0.97346109, 0.02653891],\n",
       "       [0.97400107, 0.02599893],\n",
       "       [0.47773906, 0.52226094],\n",
       "       [0.92347007, 0.07652993],\n",
       "       [0.51090359, 0.48909641],\n",
       "       [0.33331194, 0.66668806],\n",
       "       [0.43829576, 0.56170424],\n",
       "       [0.16891166, 0.83108834],\n",
       "       [0.15039797, 0.84960203],\n",
       "       [0.15620375, 0.84379625],\n",
       "       [0.35859802, 0.64140198],\n",
       "       [0.91009251, 0.08990749],\n",
       "       [0.97769606, 0.02230394],\n",
       "       [0.98665429, 0.01334571],\n",
       "       [0.97656212, 0.02343788],\n",
       "       [0.16983023, 0.83016977],\n",
       "       [0.48007379, 0.51992621],\n",
       "       [0.55642321, 0.44357679],\n",
       "       [0.49812374, 0.50187626],\n",
       "       [0.53678734, 0.46321266],\n",
       "       [0.98075456, 0.01924544],\n",
       "       [0.9722841 , 0.0277159 ],\n",
       "       [0.93712685, 0.06287315],\n",
       "       [0.60139932, 0.39860068],\n",
       "       [0.33291962, 0.66708038],\n",
       "       [0.97777853, 0.02222147],\n",
       "       [0.98835282, 0.01164718],\n",
       "       [0.52291346, 0.47708654],\n",
       "       [0.54691563, 0.45308437],\n",
       "       [0.97662378, 0.02337622],\n",
       "       [0.59093859, 0.40906141],\n",
       "       [0.53381073, 0.46618927],\n",
       "       [0.26808506, 0.73191494],\n",
       "       [0.97903317, 0.02096683],\n",
       "       [0.15112284, 0.84887716],\n",
       "       [0.97374957, 0.02625043],\n",
       "       [0.55327813, 0.44672187],\n",
       "       [0.97920034, 0.02079966],\n",
       "       [0.32583022, 0.67416978],\n",
       "       [0.95297427, 0.04702573],\n",
       "       [0.98061754, 0.01938246],\n",
       "       [0.9098883 , 0.0901117 ],\n",
       "       [0.17534979, 0.82465021],\n",
       "       [0.53774648, 0.46225352],\n",
       "       [0.58040394, 0.41959606],\n",
       "       [0.46448176, 0.53551824],\n",
       "       [0.21307266, 0.78692734],\n",
       "       [0.90949527, 0.09050473],\n",
       "       [0.9779251 , 0.0220749 ],\n",
       "       [0.98801882, 0.01198118],\n",
       "       [0.22754139, 0.77245861],\n",
       "       [0.38956581, 0.61043419],\n",
       "       [0.5878357 , 0.4121643 ],\n",
       "       [0.58472423, 0.41527577],\n",
       "       [0.98810731, 0.01189269],\n",
       "       [0.51644854, 0.48355146],\n",
       "       [0.97732886, 0.02267114],\n",
       "       [0.97693851, 0.02306149],\n",
       "       [0.98092132, 0.01907868],\n",
       "       [0.13982507, 0.86017493],\n",
       "       [0.55060659, 0.44939341],\n",
       "       [0.20065574, 0.79934426],\n",
       "       [0.97301137, 0.02698863],\n",
       "       [0.97376093, 0.02623907],\n",
       "       [0.97901555, 0.02098445],\n",
       "       [0.5858664 , 0.4141336 ],\n",
       "       [0.12596887, 0.87403113],\n",
       "       [0.57680826, 0.42319174],\n",
       "       [0.62597195, 0.37402805],\n",
       "       [0.34889295, 0.65110705],\n",
       "       [0.97009376, 0.02990624],\n",
       "       [0.97654538, 0.02345462],\n",
       "       [0.32230263, 0.67769737],\n",
       "       [0.08217875, 0.91782125],\n",
       "       [0.98379728, 0.01620272],\n",
       "       [0.98651598, 0.01348402],\n",
       "       [0.3170483 , 0.6829517 ],\n",
       "       [0.50357974, 0.49642026],\n",
       "       [0.31154986, 0.68845014],\n",
       "       [0.51365519, 0.48634481],\n",
       "       [0.41150734, 0.58849266],\n",
       "       [0.57562023, 0.42437977],\n",
       "       [0.42859636, 0.57140364],\n",
       "       [0.58013637, 0.41986363],\n",
       "       [0.97449697, 0.02550303],\n",
       "       [0.51926132, 0.48073868],\n",
       "       [0.94371899, 0.05628101],\n",
       "       [0.95360685, 0.04639315],\n",
       "       [0.32934469, 0.67065531],\n",
       "       [0.95391222, 0.04608778],\n",
       "       [0.91191169, 0.08808831],\n",
       "       [0.97752848, 0.02247152],\n",
       "       [0.55688322, 0.44311678],\n",
       "       [0.46735248, 0.53264752],\n",
       "       [0.47485005, 0.52514995],\n",
       "       [0.97651281, 0.02348719],\n",
       "       [0.3642937 , 0.6357063 ],\n",
       "       [0.97712456, 0.02287544],\n",
       "       [0.53229237, 0.46770763],\n",
       "       [0.58716209, 0.41283791],\n",
       "       [0.5682289 , 0.4317711 ],\n",
       "       [0.88800294, 0.11199706],\n",
       "       [0.97792029, 0.02207971],\n",
       "       [0.95942305, 0.04057695],\n",
       "       [0.31425144, 0.68574856],\n",
       "       [0.56219938, 0.43780062],\n",
       "       [0.54318973, 0.45681027],\n",
       "       [0.97748635, 0.02251365],\n",
       "       [0.97995898, 0.02004102],\n",
       "       [0.97837104, 0.02162896],\n",
       "       [0.58205311, 0.41794689],\n",
       "       [0.97500889, 0.02499111],\n",
       "       [0.5323263 , 0.4676737 ],\n",
       "       [0.33304221, 0.66695779],\n",
       "       [0.56662808, 0.43337192],\n",
       "       [0.55264643, 0.44735357],\n",
       "       [0.49396263, 0.50603737],\n",
       "       [0.9754506 , 0.0245494 ],\n",
       "       [0.56313223, 0.43686777],\n",
       "       [0.9170566 , 0.0829434 ],\n",
       "       [0.33109832, 0.66890168],\n",
       "       [0.9293001 , 0.0706999 ],\n",
       "       [0.58550263, 0.41449737],\n",
       "       [0.31340716, 0.68659284],\n",
       "       [0.98025231, 0.01974769],\n",
       "       [0.52796861, 0.47203139],\n",
       "       [0.97938237, 0.02061763],\n",
       "       [0.13165334, 0.86834666],\n",
       "       [0.12530686, 0.87469314],\n",
       "       [0.4749562 , 0.5250438 ],\n",
       "       [0.15989693, 0.84010307],\n",
       "       [0.97188224, 0.02811776],\n",
       "       [0.91209427, 0.08790573],\n",
       "       [0.97442202, 0.02557798],\n",
       "       [0.97701392, 0.02298608],\n",
       "       [0.57792152, 0.42207848],\n",
       "       [0.91254933, 0.08745067],\n",
       "       [0.97889504, 0.02110496],\n",
       "       [0.32447067, 0.67552933],\n",
       "       [0.57548496, 0.42451504],\n",
       "       [0.3653917 , 0.6346083 ],\n",
       "       [0.97389232, 0.02610768],\n",
       "       [0.57984738, 0.42015262],\n",
       "       [0.42548139, 0.57451861],\n",
       "       [0.91591595, 0.08408405],\n",
       "       [0.55648213, 0.44351787],\n",
       "       [0.15594839, 0.84405161],\n",
       "       [0.9770361 , 0.0229639 ],\n",
       "       [0.34097045, 0.65902955],\n",
       "       [0.97779332, 0.02220668],\n",
       "       [0.29977584, 0.70022416],\n",
       "       [0.29764452, 0.70235548],\n",
       "       [0.97554263, 0.02445737],\n",
       "       [0.97733684, 0.02266316],\n",
       "       [0.29104826, 0.70895174],\n",
       "       [0.97691933, 0.02308067],\n",
       "       [0.91705377, 0.08294623],\n",
       "       [0.97851234, 0.02148766]])"
      ]
     },
     "execution_count": 142,
     "metadata": {},
     "output_type": "execute_result"
    }
   ],
   "source": [
    "lr.predict_proba(X_test)"
   ]
  },
  {
   "cell_type": "code",
   "execution_count": 143,
   "metadata": {},
   "outputs": [],
   "source": [
    "generateFile(lr)"
   ]
  },
  {
   "cell_type": "markdown",
   "metadata": {},
   "source": [
    "#### Random Forest"
   ]
  },
  {
   "cell_type": "code",
   "execution_count": 66,
   "metadata": {},
   "outputs": [],
   "source": [
    "#05/22/20\n",
    "# classifier = RandomForestClassifier(n_estimators = 300, \n",
    "#                                     random_state = 9, \n",
    "#                                     max_features=10\n",
    "#                                    )"
   ]
  },
  {
   "cell_type": "code",
   "execution_count": 38,
   "metadata": {},
   "outputs": [],
   "source": [
    "classifier = RandomForestClassifier(n_estimators = 500, \n",
    "                                    random_state = 25, \n",
    "                                    max_features=9,\n",
    "                                    criterion='entropy',\n",
    "                                    min_samples_split = 2,  \n",
    "                                    min_samples_leaf = 2\n",
    "                                   )"
   ]
  },
  {
   "cell_type": "code",
   "execution_count": 44,
   "metadata": {},
   "outputs": [],
   "source": [
    "classifier = RandomForestClassifier()"
   ]
  },
  {
   "cell_type": "code",
   "execution_count": 39,
   "metadata": {},
   "outputs": [
    {
     "name": "stderr",
     "output_type": "stream",
     "text": [
      "/opt/anaconda3/envs/dpln/lib/python3.7/site-packages/ipykernel_launcher.py:1: DataConversionWarning: A column-vector y was passed when a 1d array was expected. Please change the shape of y to (n_samples,), for example using ravel().\n",
      "  \"\"\"Entry point for launching an IPython kernel.\n"
     ]
    },
    {
     "data": {
      "text/plain": [
       "RandomForestClassifier(criterion='entropy', max_features=9, min_samples_leaf=2,\n",
       "                       n_estimators=500, random_state=25)"
      ]
     },
     "execution_count": 39,
     "metadata": {},
     "output_type": "execute_result"
    }
   ],
   "source": [
    "classifier.fit(X_train, y_train)"
   ]
  },
  {
   "cell_type": "code",
   "execution_count": 32,
   "metadata": {},
   "outputs": [
    {
     "name": "stderr",
     "output_type": "stream",
     "text": [
      "/opt/anaconda3/envs/dpln/lib/python3.7/site-packages/ipykernel_launcher.py:9: DataConversionWarning: A column-vector y was passed when a 1d array was expected. Please change the shape of y to (n_samples,), for example using ravel().\n",
      "  if __name__ == '__main__':\n"
     ]
    },
    {
     "data": {
      "text/plain": [
       "RandomForestClassifier(max_features=9, min_samples_leaf=2, n_estimators=300,\n",
       "                       random_state=9)"
      ]
     },
     "execution_count": 32,
     "metadata": {},
     "output_type": "execute_result"
    }
   ],
   "source": [
    "classifier = RandomForestClassifier(n_estimators = 300, \n",
    "                                    random_state = 9, \n",
    "                                    max_features=9, \n",
    "                                    bootstrap = True,\n",
    "                                    #max_depth = 5, \n",
    "                                    min_samples_split = 2,  \n",
    "                                    min_samples_leaf = 2\n",
    "                                   )\n",
    "classifier.fit(X_train, y_train)"
   ]
  },
  {
   "cell_type": "code",
   "execution_count": 40,
   "metadata": {},
   "outputs": [],
   "source": [
    "# Predicting the Test set results\n",
    "y_pred = classifier.predict(X_test)"
   ]
  },
  {
   "cell_type": "code",
   "execution_count": 41,
   "metadata": {
    "scrolled": true
   },
   "outputs": [
    {
     "name": "stdout",
     "output_type": "stream",
     "text": [
      "0.8823529411764706\n"
     ]
    }
   ],
   "source": [
    "print(accuracy_score(y_test, y_pred))"
   ]
  },
  {
   "cell_type": "code",
   "execution_count": 45,
   "metadata": {},
   "outputs": [
    {
     "name": "stderr",
     "output_type": "stream",
     "text": [
      "/opt/anaconda3/envs/dpln/lib/python3.7/site-packages/ipykernel_launcher.py:5: DataConversionWarning: A column-vector y was passed when a 1d array was expected. Please change the shape of y to (n_samples,), for example using ravel().\n",
      "  \"\"\"\n"
     ]
    },
    {
     "data": {
      "text/plain": [
       "RandomForestClassifier()"
      ]
     },
     "execution_count": 45,
     "metadata": {},
     "output_type": "execute_result"
    }
   ],
   "source": [
    "# classifier = RandomForestClassifier(n_estimators = 300, \n",
    "#                                     random_state = 9, \n",
    "#                                     max_features=10\n",
    "#                                    )\n",
    "classifier.fit(X, y)"
   ]
  },
  {
   "cell_type": "code",
   "execution_count": 46,
   "metadata": {},
   "outputs": [],
   "source": [
    "#classifier.predict_proba(X_test)\n",
    "# final_predictions = classifier.predict_proba(test_norm_df)\n",
    "# final_df = pd.DataFrame(final_predictions, columns=[\"1\",\"2\"])"
   ]
  },
  {
   "cell_type": "code",
   "execution_count": 47,
   "metadata": {},
   "outputs": [],
   "source": [
    "generateFile(classifier)"
   ]
  },
  {
   "cell_type": "markdown",
   "metadata": {},
   "source": [
    "### ANN"
   ]
  },
  {
   "cell_type": "code",
   "execution_count": 55,
   "metadata": {},
   "outputs": [],
   "source": [
    "from keras.utils.np_utils import to_categorical\n",
    "y_train_cat = to_categorical(y_train)\n",
    "y_test_cat = to_categorical(y_test)\n",
    "y_cat = to_categorical(y)"
   ]
  },
  {
   "cell_type": "code",
   "execution_count": 123,
   "metadata": {},
   "outputs": [],
   "source": [
    "K.clear_session()\n",
    "\n",
    "model = Sequential()\n",
    "model.add(Dense(9, input_dim=12))\n",
    "model.add(Dense(6, activation='relu'))\n",
    "model.add(Dense(3, activation='relu'))\n",
    "model.add(Dense(2, activation='softmax'))\n",
    "model.compile(loss='binary_crossentropy',\n",
    "              optimizer='adam',\n",
    "              metrics=['mean_absolute_error'])\n",
    "\n",
    "#h1 = model.fit(X_train, y_train_cat, batch_size=32, epochs=500, verbose=0)\n",
    "#h1 = model.fit(X_train, y_train_cat, batch_size=32, epochs=500, verbose=0, validation_split=0.2)\n",
    "h1 = model.fit(X, y_cat, batch_size=32, epochs=500, verbose=0, validation_split=0.2, shuffle=True)\n",
    "#h2 = model.fit(X, y_cat, batch_size=32, epochs=500, verbose=0)"
   ]
  },
  {
   "cell_type": "code",
   "execution_count": 107,
   "metadata": {},
   "outputs": [
    {
     "name": "stdout",
     "output_type": "stream",
     "text": [
      "272/272 [==============================] - 0s 59us/step\n"
     ]
    },
    {
     "data": {
      "text/plain": [
       "[0.33421505023451414, 0.232826828956604]"
      ]
     },
     "execution_count": 107,
     "metadata": {},
     "output_type": "execute_result"
    }
   ],
   "source": [
    "model.evaluate(X_test, y_test_cat)"
   ]
  },
  {
   "cell_type": "code",
   "execution_count": 66,
   "metadata": {},
   "outputs": [],
   "source": [
    "h2 = model.fit(X, y_cat, batch_size=32, epochs=500, verbose=0)"
   ]
  },
  {
   "cell_type": "code",
   "execution_count": 75,
   "metadata": {},
   "outputs": [],
   "source": [
    "ynew = model.predict_classes(test_norm_df)"
   ]
  },
  {
   "cell_type": "code",
   "execution_count": 126,
   "metadata": {},
   "outputs": [],
   "source": [
    "generateFile(model)"
   ]
  },
  {
   "cell_type": "code",
   "execution_count": 124,
   "metadata": {},
   "outputs": [
    {
     "data": {
      "text/plain": [
       "Text(0.5, 0, 'Epochs')"
      ]
     },
     "execution_count": 124,
     "metadata": {},
     "output_type": "execute_result"
    },
    {
     "data": {
      "image/png": "[encoded data removed]",
      "text/plain": [
       "<Figure size 432x288 with 1 Axes>"
      ]
     },
     "metadata": {
      "needs_background": "light"
     },
     "output_type": "display_data"
    }
   ],
   "source": [
    "plt.plot(h1.history['mean_absolute_error'])\n",
    "plt.plot(h1.history['val_mean_absolute_error'])\n",
    "plt.legend(['Training', 'Validation'])\n",
    "plt.title('Error')\n",
    "plt.xlabel('Epochs')"
   ]
  },
  {
   "cell_type": "code",
   "execution_count": 125,
   "metadata": {},
   "outputs": [
    {
     "data": {
      "text/plain": [
       "Text(0.5, 0, 'Epochs')"
      ]
     },
     "execution_count": 125,
     "metadata": {},
     "output_type": "execute_result"
    },
    {
     "data": {
      "image/png": "[encoded data removed]",
      "text/plain": [
       "<Figure size 432x288 with 1 Axes>"
      ]
     },
     "metadata": {
      "needs_background": "light"
     },
     "output_type": "display_data"
    }
   ],
   "source": [
    "plt.plot(h1.history['loss'])\n",
    "plt.plot(h1.history['val_loss'])\n",
    "plt.legend(['Training', 'Validation'])\n",
    "plt.title('Loss')\n",
    "plt.xlabel('Epochs')"
   ]
  },
  {
   "cell_type": "markdown",
   "metadata": {},
   "source": [
    "#### Generate Final DF and File"
   ]
  },
  {
   "cell_type": "code",
   "execution_count": 26,
   "metadata": {},
   "outputs": [],
   "source": [
    "def generateFile(model):\n",
    "    final_predictions = model.predict_proba(test_norm_df)\n",
    "    #final_predictions = model.predict_proba(test_df)\n",
    "    final_df = pd.DataFrame(final_predictions, columns=[\"1\",\"2\"])\n",
    "    final_df.to_excel(r'result.xlsx', index = None)"
   ]
  },
  {
   "cell_type": "code",
   "execution_count": null,
   "metadata": {},
   "outputs": [],
   "source": []
  }
 ],
 "metadata": {
  "kernelspec": {
   "display_name": "Python 3",
   "language": "python",
   "name": "python3"
  },
  "language_info": {
   "codemirror_mode": {
    "name": "ipython",
    "version": 3
   },
   "file_extension": ".py",
   "mimetype": "text/x-python",
   "name": "python",
   "nbconvert_exporter": "python",
   "pygments_lexer": "ipython3",
   "version": "3.7.7"
  }
 },
 "nbformat": 4,
 "nbformat_minor": 4
}
