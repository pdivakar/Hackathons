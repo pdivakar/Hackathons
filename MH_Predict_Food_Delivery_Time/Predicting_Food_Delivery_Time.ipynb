{
 "cells": [
  {
   "cell_type": "markdown",
   "metadata": {},
   "source": [
    "# Predicting Food Delivery Time"
   ]
  },
  {
   "cell_type": "markdown",
   "metadata": {},
   "source": [
    "When was the last time you ordered food online? And how long did it take to reach you?"
   ]
  },
  {
   "cell_type": "markdown",
   "metadata": {},
   "source": [
    "### Data Fields\n",
    "\n",
    "Size of training set: 11,094 records\n",
    "\n",
    "Size of test set: 2,774 records\n",
    "\n",
    "FEATURES:\n",
    "\n",
    "<li>Restaurant: A unique ID that represents a restaurant.</li>\n",
    "<li>Location: The location of the restaurant.</li>\n",
    "<li>Cuisines: The cuisines offered by the restaurant.</li>\n",
    "<li>Average_Cost: The average cost for one person/order.</li>\n",
    "<li>Minimum_Order: The minimum order amount.</li>\n",
    "<li>Rating: Customer rating for the restaurant.</li>\n",
    "<li>Votes: The total number of customer votes for the restaurant.</li>\n",
    "<li>Reviews: The number of customer reviews for the restaurant.</li>\n",
    "<li>Delivery_Time: The order delivery time of the restaurant. (Target Classes) </li>"
   ]
  },
  {
   "cell_type": "markdown",
   "metadata": {},
   "source": [
    "## Import Libraries"
   ]
  },
  {
   "cell_type": "code",
   "execution_count": 108,
   "metadata": {
    "collapsed": true
   },
   "outputs": [],
   "source": [
    "import numpy as np\n",
    "import pandas as pd\n",
    "import matplotlib.pyplot as plt\n",
    "import seaborn as sns"
   ]
  },
  {
   "cell_type": "code",
   "execution_count": 109,
   "metadata": {
    "collapsed": true
   },
   "outputs": [],
   "source": [
    "from sklearn import preprocessing\n",
    "from sklearn.metrics import confusion_matrix \n",
    "from sklearn.model_selection import train_test_split, RandomizedSearchCV, GridSearchCV"
   ]
  },
  {
   "cell_type": "code",
   "execution_count": 110,
   "metadata": {
    "collapsed": true
   },
   "outputs": [],
   "source": [
    "from sklearn.tree import DecisionTreeClassifier\n",
    "from sklearn.neighbors import KNeighborsClassifier\n",
    "from sklearn.ensemble import RandomForestClassifier\n",
    "from xgboost import XGBClassifier"
   ]
  },
  {
   "cell_type": "code",
   "execution_count": 111,
   "metadata": {
    "collapsed": true
   },
   "outputs": [],
   "source": [
    "from sklearn.metrics import classification_report, confusion_matrix, accuracy_score"
   ]
  },
  {
   "cell_type": "code",
   "execution_count": 112,
   "metadata": {
    "collapsed": true
   },
   "outputs": [],
   "source": [
    "#from keras.models import Sequential\n",
    "#from keras.layers import Dense, Activation\n",
    "#import keras.backend as K"
   ]
  },
  {
   "cell_type": "code",
   "execution_count": 128,
   "metadata": {},
   "outputs": [
    {
     "name": "stdout",
     "output_type": "stream",
     "text": [
      "The train data size : (11094, 9) \n",
      "The test data size : (2774, 8) \n"
     ]
    }
   ],
   "source": [
    "# read the train and test datasets\n",
    "train_df = pd.read_excel('./Participants Data/Data_Train.xlsx', sheetname='Sheet1')\n",
    "print(\"The train data size : {} \".format(train_df.shape))\n",
    "\n",
    "test_df = pd.read_excel('./Participants Data/Data_Test.xlsx', sheetname='Sheet1')\n",
    "print(\"The test data size : {} \".format(test_df.shape))"
   ]
  },
  {
   "cell_type": "code",
   "execution_count": 129,
   "metadata": {},
   "outputs": [
    {
     "data": {
      "text/html": [
       "<div>\n",
       "<style>\n",
       "    .dataframe thead tr:only-child th {\n",
       "        text-align: right;\n",
       "    }\n",
       "\n",
       "    .dataframe thead th {\n",
       "        text-align: left;\n",
       "    }\n",
       "\n",
       "    .dataframe tbody tr th {\n",
       "        vertical-align: top;\n",
       "    }\n",
       "</style>\n",
       "<table border=\"1\" class=\"dataframe\">\n",
       "  <thead>\n",
       "    <tr style=\"text-align: right;\">\n",
       "      <th></th>\n",
       "      <th>Restaurant</th>\n",
       "      <th>Location</th>\n",
       "      <th>Cuisines</th>\n",
       "      <th>Average_Cost</th>\n",
       "      <th>Minimum_Order</th>\n",
       "      <th>Rating</th>\n",
       "      <th>Votes</th>\n",
       "      <th>Reviews</th>\n",
       "      <th>Delivery_Time</th>\n",
       "    </tr>\n",
       "  </thead>\n",
       "  <tbody>\n",
       "    <tr>\n",
       "      <th>0</th>\n",
       "      <td>ID_6321</td>\n",
       "      <td>FTI College, Law College Road, Pune</td>\n",
       "      <td>Fast Food, Rolls, Burger, Salad, Wraps</td>\n",
       "      <td>₹200</td>\n",
       "      <td>₹50</td>\n",
       "      <td>3.5</td>\n",
       "      <td>12</td>\n",
       "      <td>4</td>\n",
       "      <td>30 minutes</td>\n",
       "    </tr>\n",
       "    <tr>\n",
       "      <th>1</th>\n",
       "      <td>ID_2882</td>\n",
       "      <td>Sector 3, Marathalli</td>\n",
       "      <td>Ice Cream, Desserts</td>\n",
       "      <td>₹100</td>\n",
       "      <td>₹50</td>\n",
       "      <td>3.5</td>\n",
       "      <td>11</td>\n",
       "      <td>4</td>\n",
       "      <td>30 minutes</td>\n",
       "    </tr>\n",
       "    <tr>\n",
       "      <th>2</th>\n",
       "      <td>ID_1595</td>\n",
       "      <td>Mumbai Central</td>\n",
       "      <td>Italian, Street Food, Fast Food</td>\n",
       "      <td>₹150</td>\n",
       "      <td>₹50</td>\n",
       "      <td>3.6</td>\n",
       "      <td>99</td>\n",
       "      <td>30</td>\n",
       "      <td>65 minutes</td>\n",
       "    </tr>\n",
       "    <tr>\n",
       "      <th>3</th>\n",
       "      <td>ID_5929</td>\n",
       "      <td>Sector 1, Noida</td>\n",
       "      <td>Mughlai, North Indian, Chinese</td>\n",
       "      <td>₹250</td>\n",
       "      <td>₹99</td>\n",
       "      <td>3.7</td>\n",
       "      <td>176</td>\n",
       "      <td>95</td>\n",
       "      <td>30 minutes</td>\n",
       "    </tr>\n",
       "    <tr>\n",
       "      <th>4</th>\n",
       "      <td>ID_6123</td>\n",
       "      <td>Rmz Centennial, I Gate, Whitefield</td>\n",
       "      <td>Cafe, Beverages</td>\n",
       "      <td>₹200</td>\n",
       "      <td>₹99</td>\n",
       "      <td>3.2</td>\n",
       "      <td>521</td>\n",
       "      <td>235</td>\n",
       "      <td>65 minutes</td>\n",
       "    </tr>\n",
       "  </tbody>\n",
       "</table>\n",
       "</div>"
      ],
      "text/plain": [
       "  Restaurant                             Location  \\\n",
       "0    ID_6321  FTI College, Law College Road, Pune   \n",
       "1    ID_2882                 Sector 3, Marathalli   \n",
       "2    ID_1595                       Mumbai Central   \n",
       "3    ID_5929                      Sector 1, Noida   \n",
       "4    ID_6123   Rmz Centennial, I Gate, Whitefield   \n",
       "\n",
       "                                 Cuisines Average_Cost Minimum_Order Rating  \\\n",
       "0  Fast Food, Rolls, Burger, Salad, Wraps         ₹200           ₹50    3.5   \n",
       "1                     Ice Cream, Desserts         ₹100           ₹50    3.5   \n",
       "2         Italian, Street Food, Fast Food         ₹150           ₹50    3.6   \n",
       "3          Mughlai, North Indian, Chinese         ₹250           ₹99    3.7   \n",
       "4                         Cafe, Beverages         ₹200           ₹99    3.2   \n",
       "\n",
       "  Votes Reviews Delivery_Time  \n",
       "0    12       4    30 minutes  \n",
       "1    11       4    30 minutes  \n",
       "2    99      30    65 minutes  \n",
       "3   176      95    30 minutes  \n",
       "4   521     235    65 minutes  "
      ]
     },
     "execution_count": 129,
     "metadata": {},
     "output_type": "execute_result"
    }
   ],
   "source": [
    "train_df.head()"
   ]
  },
  {
   "cell_type": "code",
   "execution_count": 130,
   "metadata": {},
   "outputs": [
    {
     "data": {
      "text/html": [
       "<div>\n",
       "<style>\n",
       "    .dataframe thead tr:only-child th {\n",
       "        text-align: right;\n",
       "    }\n",
       "\n",
       "    .dataframe thead th {\n",
       "        text-align: left;\n",
       "    }\n",
       "\n",
       "    .dataframe tbody tr th {\n",
       "        vertical-align: top;\n",
       "    }\n",
       "</style>\n",
       "<table border=\"1\" class=\"dataframe\">\n",
       "  <thead>\n",
       "    <tr style=\"text-align: right;\">\n",
       "      <th></th>\n",
       "      <th>Restaurant</th>\n",
       "      <th>Location</th>\n",
       "      <th>Cuisines</th>\n",
       "      <th>Average_Cost</th>\n",
       "      <th>Minimum_Order</th>\n",
       "      <th>Rating</th>\n",
       "      <th>Votes</th>\n",
       "      <th>Reviews</th>\n",
       "    </tr>\n",
       "  </thead>\n",
       "  <tbody>\n",
       "    <tr>\n",
       "      <th>0</th>\n",
       "      <td>ID_2842</td>\n",
       "      <td>Mico Layout, Stage 2, BTM Layout,Bangalore</td>\n",
       "      <td>North Indian, Chinese, Assamese</td>\n",
       "      <td>₹350</td>\n",
       "      <td>₹50</td>\n",
       "      <td>4.2</td>\n",
       "      <td>361</td>\n",
       "      <td>225</td>\n",
       "    </tr>\n",
       "    <tr>\n",
       "      <th>1</th>\n",
       "      <td>ID_730</td>\n",
       "      <td>Mico Layout, Stage 2, BTM Layout,Bangalore</td>\n",
       "      <td>Biryani, Kebab</td>\n",
       "      <td>₹100</td>\n",
       "      <td>₹50</td>\n",
       "      <td>NEW</td>\n",
       "      <td>-</td>\n",
       "      <td>-</td>\n",
       "    </tr>\n",
       "    <tr>\n",
       "      <th>2</th>\n",
       "      <td>ID_4620</td>\n",
       "      <td>Sector 1, Noida</td>\n",
       "      <td>Fast Food</td>\n",
       "      <td>₹100</td>\n",
       "      <td>₹50</td>\n",
       "      <td>3.6</td>\n",
       "      <td>36</td>\n",
       "      <td>16</td>\n",
       "    </tr>\n",
       "    <tr>\n",
       "      <th>3</th>\n",
       "      <td>ID_5470</td>\n",
       "      <td>Babarpur, New Delhi, Delhi</td>\n",
       "      <td>Mithai, North Indian, Chinese, Fast Food, Sout...</td>\n",
       "      <td>₹200</td>\n",
       "      <td>₹50</td>\n",
       "      <td>3.6</td>\n",
       "      <td>66</td>\n",
       "      <td>33</td>\n",
       "    </tr>\n",
       "    <tr>\n",
       "      <th>4</th>\n",
       "      <td>ID_3249</td>\n",
       "      <td>Sector 1, Noida</td>\n",
       "      <td>Chinese, Fast Food</td>\n",
       "      <td>₹150</td>\n",
       "      <td>₹50</td>\n",
       "      <td>2.9</td>\n",
       "      <td>38</td>\n",
       "      <td>14</td>\n",
       "    </tr>\n",
       "  </tbody>\n",
       "</table>\n",
       "</div>"
      ],
      "text/plain": [
       "  Restaurant                                    Location  \\\n",
       "0    ID_2842  Mico Layout, Stage 2, BTM Layout,Bangalore   \n",
       "1     ID_730  Mico Layout, Stage 2, BTM Layout,Bangalore   \n",
       "2    ID_4620                             Sector 1, Noida   \n",
       "3    ID_5470                  Babarpur, New Delhi, Delhi   \n",
       "4    ID_3249                             Sector 1, Noida   \n",
       "\n",
       "                                            Cuisines Average_Cost  \\\n",
       "0                    North Indian, Chinese, Assamese         ₹350   \n",
       "1                                     Biryani, Kebab         ₹100   \n",
       "2                                          Fast Food         ₹100   \n",
       "3  Mithai, North Indian, Chinese, Fast Food, Sout...         ₹200   \n",
       "4                                 Chinese, Fast Food         ₹150   \n",
       "\n",
       "  Minimum_Order Rating Votes Reviews  \n",
       "0           ₹50    4.2   361     225  \n",
       "1           ₹50    NEW     -       -  \n",
       "2           ₹50    3.6    36      16  \n",
       "3           ₹50    3.6    66      33  \n",
       "4           ₹50    2.9    38      14  "
      ]
     },
     "execution_count": 130,
     "metadata": {},
     "output_type": "execute_result"
    }
   ],
   "source": [
    "test_df.head()"
   ]
  },
  {
   "cell_type": "code",
   "execution_count": 131,
   "metadata": {},
   "outputs": [
    {
     "data": {
      "text/html": [
       "<div>\n",
       "<style>\n",
       "    .dataframe thead tr:only-child th {\n",
       "        text-align: right;\n",
       "    }\n",
       "\n",
       "    .dataframe thead th {\n",
       "        text-align: left;\n",
       "    }\n",
       "\n",
       "    .dataframe tbody tr th {\n",
       "        vertical-align: top;\n",
       "    }\n",
       "</style>\n",
       "<table border=\"1\" class=\"dataframe\">\n",
       "  <thead>\n",
       "    <tr style=\"text-align: right;\">\n",
       "      <th></th>\n",
       "      <th>Restaurant</th>\n",
       "      <th>Location</th>\n",
       "      <th>Cuisines</th>\n",
       "      <th>Average_Cost</th>\n",
       "      <th>Minimum_Order</th>\n",
       "      <th>Rating</th>\n",
       "      <th>Votes</th>\n",
       "      <th>Reviews</th>\n",
       "      <th>Delivery_Time</th>\n",
       "    </tr>\n",
       "  </thead>\n",
       "  <tbody>\n",
       "    <tr>\n",
       "      <th>count</th>\n",
       "      <td>11094</td>\n",
       "      <td>11094</td>\n",
       "      <td>11094</td>\n",
       "      <td>11094</td>\n",
       "      <td>11094</td>\n",
       "      <td>11094</td>\n",
       "      <td>11094</td>\n",
       "      <td>11094</td>\n",
       "      <td>11094</td>\n",
       "    </tr>\n",
       "    <tr>\n",
       "      <th>unique</th>\n",
       "      <td>7480</td>\n",
       "      <td>35</td>\n",
       "      <td>2179</td>\n",
       "      <td>26</td>\n",
       "      <td>18</td>\n",
       "      <td>33</td>\n",
       "      <td>1103</td>\n",
       "      <td>761</td>\n",
       "      <td>7</td>\n",
       "    </tr>\n",
       "    <tr>\n",
       "      <th>top</th>\n",
       "      <td>ID_7184</td>\n",
       "      <td>Mico Layout, Stage 2, BTM Layout,Bangalore</td>\n",
       "      <td>North Indian</td>\n",
       "      <td>₹200</td>\n",
       "      <td>₹50</td>\n",
       "      <td>-</td>\n",
       "      <td>-</td>\n",
       "      <td>-</td>\n",
       "      <td>30 minutes</td>\n",
       "    </tr>\n",
       "    <tr>\n",
       "      <th>freq</th>\n",
       "      <td>22</td>\n",
       "      <td>947</td>\n",
       "      <td>850</td>\n",
       "      <td>3241</td>\n",
       "      <td>10118</td>\n",
       "      <td>1191</td>\n",
       "      <td>2074</td>\n",
       "      <td>2312</td>\n",
       "      <td>7406</td>\n",
       "    </tr>\n",
       "  </tbody>\n",
       "</table>\n",
       "</div>"
      ],
      "text/plain": [
       "       Restaurant                                    Location      Cuisines  \\\n",
       "count       11094                                       11094         11094   \n",
       "unique       7480                                          35          2179   \n",
       "top       ID_7184  Mico Layout, Stage 2, BTM Layout,Bangalore  North Indian   \n",
       "freq           22                                         947           850   \n",
       "\n",
       "       Average_Cost Minimum_Order Rating  Votes Reviews Delivery_Time  \n",
       "count         11094         11094  11094  11094   11094         11094  \n",
       "unique           26            18     33   1103     761             7  \n",
       "top            ₹200           ₹50      -      -       -    30 minutes  \n",
       "freq           3241         10118   1191   2074    2312          7406  "
      ]
     },
     "execution_count": 131,
     "metadata": {},
     "output_type": "execute_result"
    }
   ],
   "source": [
    "train_df.describe()"
   ]
  },
  {
   "cell_type": "markdown",
   "metadata": {},
   "source": [
    "## Data Pre-processing"
   ]
  },
  {
   "cell_type": "code",
   "execution_count": 132,
   "metadata": {
    "collapsed": true
   },
   "outputs": [],
   "source": [
    "train_df = train_df[~train_df.Rating.str.contains(\"Temporarily Closed\")]\n",
    "test_df = test_df[~test_df.Rating.str.contains(\"Temporarily Closed\")]\n",
    "\n",
    "train_df['Average_Cost'] = train_df['Average_Cost'].str.replace(',', '')\n",
    "test_df['Average_Cost'] = test_df['Average_Cost'].str.replace(',', '')\n",
    "\n",
    "train_df['Minimum_Order'] = train_df['Minimum_Order'].str.replace(',', '')\n",
    "test_df['Minimum_Order'] = test_df['Minimum_Order'].str.replace(',', '')"
   ]
  },
  {
   "cell_type": "markdown",
   "metadata": {},
   "source": [
    "#### Lets only have records where columns 'Average Cost' and 'Min Order' contain '₹'"
   ]
  },
  {
   "cell_type": "code",
   "execution_count": 133,
   "metadata": {
    "collapsed": true
   },
   "outputs": [],
   "source": [
    "train_df = train_df[train_df.Average_Cost.str.contains(\"₹\")]\n",
    "train_df = train_df[train_df.Minimum_Order.str.contains(\"₹\")]\n",
    "\n",
    "test_df = test_df[test_df.Average_Cost.str.contains(\"₹\")]\n",
    "test_df = test_df[test_df.Minimum_Order.str.contains(\"₹\")]"
   ]
  },
  {
   "cell_type": "code",
   "execution_count": 134,
   "metadata": {
    "collapsed": true
   },
   "outputs": [],
   "source": [
    "train_df = train_df.reset_index().drop(\"index\", axis = 1)\n",
    "test_df = test_df.reset_index().drop(\"index\", axis = 1)"
   ]
  },
  {
   "cell_type": "markdown",
   "metadata": {},
   "source": [
    "#### Remove from '₹' from 'Average Cost' and 'Min Order'"
   ]
  },
  {
   "cell_type": "code",
   "execution_count": 135,
   "metadata": {
    "collapsed": true
   },
   "outputs": [],
   "source": [
    "train_df['Average_Cost'] = train_df['Average_Cost'].str.slice(start=1)\n",
    "test_df['Average_Cost'] = test_df['Average_Cost'].str.slice(start=1)\n",
    "\n",
    "train_df['Minimum_Order'] = train_df['Minimum_Order'].str.slice(start=1)\n",
    "test_df['Minimum_Order'] = test_df['Minimum_Order'].str.slice(start=1)"
   ]
  },
  {
   "cell_type": "markdown",
   "metadata": {},
   "source": [
    "#### Replace '-' and 'NEW' values"
   ]
  },
  {
   "cell_type": "code",
   "execution_count": 136,
   "metadata": {
    "collapsed": true
   },
   "outputs": [],
   "source": [
    "# cols = [\"Rating\",\"Votes\",\"Reviews\"]\n",
    "\n",
    "# train_df[cols] = train_df[cols].replace({'-':np.nan,'NEW':np.nan,'Opening Soon':np.nan})\n",
    "# test_df[cols] = test_df[cols].replace({'-':np.nan,'NEW':np.nan,'Opening Soon':np.nan})"
   ]
  },
  {
   "cell_type": "code",
   "execution_count": 137,
   "metadata": {
    "collapsed": true
   },
   "outputs": [],
   "source": [
    "train_df['Rating'] = train_df['Rating'].replace('-', '3.7') #2.5\n",
    "train_df['Rating'] = train_df['Rating'].str.replace('NEW', '3.7') #2.5\n",
    "train_df['Rating'] = train_df['Rating'].str.replace('Opening Soon', '3.7') #2.5\n",
    "train_df['Votes'] = train_df['Votes'].replace('-', '4')\n",
    "train_df['Reviews'] = train_df['Reviews'].replace('-', '2')\n",
    "\n",
    "test_df['Rating'] = test_df['Rating'].replace('-', '3.7') #2.5\n",
    "test_df['Rating'] = test_df['Rating'].str.replace('NEW', '3.7') #2.5\n",
    "test_df['Rating'] = test_df['Rating'].str.replace('Opening Soon', '3.7') #2.5\n",
    "test_df['Votes'] = test_df['Votes'].replace('-', '4')\n",
    "test_df['Reviews'] = test_df['Reviews'].replace('-', '2')"
   ]
  },
  {
   "cell_type": "markdown",
   "metadata": {},
   "source": [
    "#### Convert the Cuisines to one-hot coding"
   ]
  },
  {
   "cell_type": "code",
   "execution_count": 141,
   "metadata": {
    "collapsed": true
   },
   "outputs": [],
   "source": [
    "cuisines_list = train_df['Cuisines'].str.split(\",\").tolist()\n",
    "cuisines_list = cuisines_list + test_df['Cuisines'].str.split(\",\").tolist()\n",
    "\n",
    "new_cuisines_list = []\n",
    "for owner in cuisines_list:\n",
    "    new_cuisines_list.append([word.replace(' ', '') for word in owner])\n",
    "\n",
    "cuisines_list_unique = list(set(sum(new_cuisines_list, [])))\n",
    "\n",
    "df_lst = []\n",
    "for i in new_cuisines_list:\n",
    "    lst = []\n",
    "    for j in cuisines_list_unique:\n",
    "        if j in i:\n",
    "            lst += '1'\n",
    "        else:\n",
    "            lst += '0'\n",
    "    df_lst.append(lst)       \n",
    "\n",
    "cuis_df = pd.DataFrame(df_lst, columns=cuisines_list_unique)\n",
    "\n",
    "for col in cuis_df.columns:\n",
    "    cuis_df[col] = cuis_df[col].astype(int)\n",
    "\n",
    "train_df = train_df.join(cuis_df[:len(train_df)]) \n",
    "test_df = test_df.join(cuis_df[len(train_df):].reset_index().drop(\"index\", axis = 1))"
   ]
  },
  {
   "cell_type": "markdown",
   "metadata": {},
   "source": [
    "#### Convert location to one-hot coding"
   ]
  },
  {
   "cell_type": "code",
   "execution_count": 146,
   "metadata": {
    "collapsed": true
   },
   "outputs": [],
   "source": [
    "location_list = train_df['Location'].tolist()\n",
    "location_list = location_list + test_df['Location'].tolist()\n",
    "\n",
    "le = preprocessing.LabelEncoder()\n",
    "\n",
    "location_list_code = le.fit_transform(location_list)\n",
    "loc_code_list = list(le.classes_)\n",
    "loc_code_mapping = dict(zip(le.classes_, le.transform(le.classes_)))\n",
    "\n",
    "loc_df = pd.DataFrame(location_list_code, columns=['Loc_Code'])\n",
    "loc_df = pd.get_dummies(loc_df, columns=['Loc_Code'])\n",
    "\n",
    "for col in loc_df.columns:\n",
    "    loc_df[col] = loc_df[col].astype(int)\n",
    "\n",
    "train_df = train_df.join(loc_df[:len(train_df)]) \n",
    "test_df = test_df.join(loc_df[len(train_df):].reset_index().drop(\"index\", axis = 1))"
   ]
  },
  {
   "cell_type": "markdown",
   "metadata": {},
   "source": [
    "#### Drop the Resturant Id column"
   ]
  },
  {
   "cell_type": "code",
   "execution_count": 147,
   "metadata": {
    "collapsed": true
   },
   "outputs": [],
   "source": [
    "train_df.drop(\"Restaurant\", axis = 1, inplace = True)\n",
    "test_df.drop(\"Restaurant\", axis = 1, inplace = True)\n",
    "\n",
    "train_df.drop(\"Cuisines\", axis = 1, inplace = True)\n",
    "test_df.drop(\"Cuisines\", axis = 1, inplace = True)\n",
    "\n",
    "train_df.drop(\"Location\", axis = 1, inplace = True)\n",
    "test_df.drop(\"Location\", axis = 1, inplace = True)"
   ]
  },
  {
   "cell_type": "markdown",
   "metadata": {},
   "source": [
    "#### Update the data type of columns"
   ]
  },
  {
   "cell_type": "code",
   "execution_count": 148,
   "metadata": {
    "collapsed": true
   },
   "outputs": [],
   "source": [
    "train_df['Average_Cost'] = train_df['Average_Cost'].astype(int)\n",
    "train_df['Minimum_Order'] = train_df['Minimum_Order'].astype(int)\n",
    "train_df['Votes'] = train_df['Votes'].astype(int)\n",
    "train_df['Reviews'] = train_df['Reviews'].astype(int) \n",
    "train_df['Rating'] = train_df['Rating'].astype(float)\n",
    "\n",
    "test_df['Average_Cost'] = test_df['Average_Cost'].astype(int)\n",
    "test_df['Minimum_Order'] = test_df['Minimum_Order'].astype(int)\n",
    "test_df['Votes'] = test_df['Votes'].astype(int)\n",
    "test_df['Reviews'] = test_df['Reviews'].astype(int) \n",
    "test_df['Rating'] = test_df['Rating'].astype(float)"
   ]
  },
  {
   "cell_type": "markdown",
   "metadata": {},
   "source": [
    "### Look for outliners"
   ]
  },
  {
   "cell_type": "code",
   "execution_count": 91,
   "metadata": {
    "collapsed": true
   },
   "outputs": [],
   "source": [
    "#train_df_without_nan = train_df[train_df.Rating.notnull() & train_df.Votes.notnull() & train_df.Reviews.notnull()]\n",
    "#train_df_with_nan = train_df[train_df.Rating.isnull() | train_df.Votes.isnull() | train_df.Reviews.isnull()]"
   ]
  },
  {
   "cell_type": "code",
   "execution_count": 92,
   "metadata": {
    "collapsed": true,
    "scrolled": true
   },
   "outputs": [],
   "source": []
  },
  {
   "cell_type": "code",
   "execution_count": 93,
   "metadata": {},
   "outputs": [
    {
     "data": {
      "image/png": "[encoded data removed]",
      "text/plain": [
       "<matplotlib.figure.Figure at 0x1212fc2e8>"
      ]
     },
     "metadata": {},
     "output_type": "display_data"
    }
   ],
   "source": [
    "sns.boxplot(x='Delivery_Time', y='Average_Cost', data=train_df)\n",
    "sns.plt.show()"
   ]
  },
  {
   "cell_type": "code",
   "execution_count": 94,
   "metadata": {
    "collapsed": true
   },
   "outputs": [],
   "source": [
    "train_df = train_df[train_df['Average_Cost'] < 1000]"
   ]
  },
  {
   "cell_type": "code",
   "execution_count": 95,
   "metadata": {},
   "outputs": [
    {
     "data": {
      "image/png": "[encoded data removed]",
      "text/plain": [
       "<matplotlib.figure.Figure at 0x120fd3e48>"
      ]
     },
     "metadata": {},
     "output_type": "display_data"
    }
   ],
   "source": [
    "sns.boxplot(x='Delivery_Time', y='Minimum_Order', data=train_df)\n",
    "sns.plt.show()"
   ]
  },
  {
   "cell_type": "code",
   "execution_count": 96,
   "metadata": {
    "collapsed": true
   },
   "outputs": [],
   "source": [
    "train_df = train_df[(train_df['Minimum_Order'] < 200)]"
   ]
  },
  {
   "cell_type": "code",
   "execution_count": 97,
   "metadata": {},
   "outputs": [
    {
     "data": {
      "image/png": "[encoded data removed]",
      "text/plain": [
       "<matplotlib.figure.Figure at 0x1213171d0>"
      ]
     },
     "metadata": {},
     "output_type": "display_data"
    }
   ],
   "source": [
    "sns.boxplot(x='Delivery_Time', y='Rating', data=train_df)\n",
    "sns.plt.show()"
   ]
  },
  {
   "cell_type": "code",
   "execution_count": 98,
   "metadata": {
    "collapsed": true
   },
   "outputs": [],
   "source": [
    "train_df = train_df[(train_df['Rating'] < 4.75)]"
   ]
  },
  {
   "cell_type": "code",
   "execution_count": 99,
   "metadata": {},
   "outputs": [
    {
     "data": {
      "image/png": "[encoded data removed]",
      "text/plain": [
       "<matplotlib.figure.Figure at 0x1210669b0>"
      ]
     },
     "metadata": {},
     "output_type": "display_data"
    }
   ],
   "source": [
    "sns.boxplot(x='Delivery_Time', y='Votes', data=train_df)\n",
    "sns.plt.show()"
   ]
  },
  {
   "cell_type": "code",
   "execution_count": 100,
   "metadata": {},
   "outputs": [
    {
     "data": {
      "text/plain": [
       "(10989, 9)"
      ]
     },
     "execution_count": 100,
     "metadata": {},
     "output_type": "execute_result"
    }
   ],
   "source": [
    "train_df = train_df[train_df['Votes'] < 4000]\n",
    "train_df.shape"
   ]
  },
  {
   "cell_type": "code",
   "execution_count": null,
   "metadata": {
    "collapsed": true
   },
   "outputs": [],
   "source": [
    "train_df1 = train_df[(train_df['Delivery_Time'] == '30 minutes') & (train_df['Votes'] < 150)]\n",
    "train_df2 = train_df[(train_df['Delivery_Time'] == '65 minutes') & (train_df['Votes'] < 625)]\n",
    "train_df3 = train_df[(train_df['Delivery_Time'] == '45 minutes') & (train_df['Votes'] < 650)]\n",
    "train_df4 = train_df[(train_df['Delivery_Time'] == '120 minutes') & (train_df['Votes'] < 450)]\n",
    "train_df5 = train_df[(train_df['Delivery_Time'] == '10 minutes') | (train_df['Delivery_Time'] == '20 minutes') | (train_df['Delivery_Time'] == '80 minutes')]"
   ]
  },
  {
   "cell_type": "code",
   "execution_count": null,
   "metadata": {
    "collapsed": true
   },
   "outputs": [],
   "source": [
    "train_df = train_df1.copy()\n",
    "train_df = train_df1.append(train_df2, ignore_index = True)\n",
    "train_df = train_df.append(train_df3, ignore_index = True)\n",
    "train_df = train_df.append(train_df4, ignore_index = True)\n",
    "train_df = train_df.append(train_df5, ignore_index = True)\n",
    "train_df.shape"
   ]
  },
  {
   "cell_type": "code",
   "execution_count": 29,
   "metadata": {},
   "outputs": [
    {
     "data": {
      "text/plain": [
       "(9818, 9)"
      ]
     },
     "execution_count": 29,
     "metadata": {},
     "output_type": "execute_result"
    }
   ],
   "source": [
    "train_df = train_df[train_df['Votes'] < 600]\n",
    "train_df.shape"
   ]
  },
  {
   "cell_type": "code",
   "execution_count": 30,
   "metadata": {},
   "outputs": [
    {
     "data": {
      "image/png": "[encoded data removed]",
      "text/plain": [
       "<matplotlib.figure.Figure at 0x1191f9080>"
      ]
     },
     "metadata": {},
     "output_type": "display_data"
    }
   ],
   "source": [
    "sns.boxplot(x='Delivery_Time', y='Votes', data=train_df)\n",
    "sns.plt.show()"
   ]
  },
  {
   "cell_type": "code",
   "execution_count": 101,
   "metadata": {},
   "outputs": [
    {
     "data": {
      "image/png": "[encoded data removed]",
      "text/plain": [
       "<matplotlib.figure.Figure at 0x120fc6b70>"
      ]
     },
     "metadata": {},
     "output_type": "display_data"
    }
   ],
   "source": [
    "sns.boxplot(x='Delivery_Time', y='Reviews', data=train_df)\n",
    "sns.plt.show()"
   ]
  },
  {
   "cell_type": "code",
   "execution_count": 102,
   "metadata": {},
   "outputs": [
    {
     "data": {
      "text/plain": [
       "(10973, 9)"
      ]
     },
     "execution_count": 102,
     "metadata": {},
     "output_type": "execute_result"
    }
   ],
   "source": [
    "train_df = train_df[train_df['Reviews'] < 2000]\n",
    "train_df.shape"
   ]
  },
  {
   "cell_type": "code",
   "execution_count": null,
   "metadata": {
    "collapsed": true
   },
   "outputs": [],
   "source": [
    "train_df1 = train_df[(train_df['Delivery_Time'] == '30 minutes') & (train_df['Reviews'] < 50)]\n",
    "train_df2 = train_df[(train_df['Delivery_Time'] == '65 minutes') & (train_df['Reviews'] < 225)]\n",
    "train_df3 = train_df[(train_df['Delivery_Time'] == '45 minutes') & (train_df['Reviews'] < 200)]\n",
    "train_df4 = train_df[(train_df['Delivery_Time'] == '120 minutes') & (train_df['Reviews'] < 100)]\n",
    "train_df5 = train_df[(train_df['Delivery_Time'] == '10 minutes') | (train_df['Delivery_Time'] == '20 minutes') | (train_df['Delivery_Time'] == '80 minutes')]"
   ]
  },
  {
   "cell_type": "code",
   "execution_count": null,
   "metadata": {
    "collapsed": true
   },
   "outputs": [],
   "source": [
    "train_df = train_df1.copy()\n",
    "train_df = train_df1.append(train_df2, ignore_index = True)\n",
    "train_df = train_df.append(train_df3, ignore_index = True)\n",
    "train_df = train_df.append(train_df4, ignore_index = True)\n",
    "train_df = train_df.append(train_df5, ignore_index = True)\n",
    "train_df.shape"
   ]
  },
  {
   "cell_type": "code",
   "execution_count": null,
   "metadata": {
    "collapsed": true
   },
   "outputs": [],
   "source": [
    "sns.boxplot(x='Delivery_Time', y='Reviews', data=train_df)\n",
    "sns.plt.show()"
   ]
  },
  {
   "cell_type": "code",
   "execution_count": 103,
   "metadata": {
    "collapsed": true
   },
   "outputs": [],
   "source": [
    "train_df = train_df.reset_index().drop(\"index\", axis = 1)"
   ]
  },
  {
   "cell_type": "markdown",
   "metadata": {},
   "source": [
    "#### Cuisine Count"
   ]
  },
  {
   "cell_type": "code",
   "execution_count": 105,
   "metadata": {
    "collapsed": true
   },
   "outputs": [],
   "source": [
    "# cuisines_list = train_df['Cuisines'].str.split(\",\").tolist()\n",
    "# cuisines_list = cuisines_list + test_df['Cuisines'].str.split(\",\").tolist()\n",
    "\n",
    "# new_cuisines_list = []\n",
    "# for owner in cuisines_list:\n",
    "#     new_cuisines_list.append([word.replace(' ', '') for word in owner])\n",
    "\n",
    "# df_lst = []\n",
    "# for i in new_cuisines_list:\n",
    "#     df_lst.append(len(i)) \n",
    "\n",
    "# cuis_df = pd.DataFrame(df_lst, columns=['Cuisines_Count'])\n",
    "\n",
    "# train_df = train_df.join(cuis_df[:len(train_df)]) \n",
    "# test_df = test_df.join(cuis_df[len(train_df):].reset_index().drop(\"index\", axis = 1))"
   ]
  },
  {
   "cell_type": "markdown",
   "metadata": {},
   "source": [
    "#### Splitting location to area and city"
   ]
  },
  {
   "cell_type": "code",
   "execution_count": 110,
   "metadata": {
    "collapsed": true
   },
   "outputs": [],
   "source": [
    "# location_list = train_df['Location'].str.split(\",\").tolist()\n",
    "# location_list = location_list + test_df['Location'].str.split(\",\").tolist()\n",
    "\n",
    "# new_location_list = []\n",
    "# for owner in location_list:\n",
    "#     new_location_list.append([word.replace(' ', '') for word in owner])\n",
    "\n",
    "# city_area_list = []\n",
    "# for owner in new_location_list:\n",
    "#     lst = []\n",
    "#     lst.append(owner.pop())\n",
    "#     if len(owner) > 0:\n",
    "#         lst.append(owner.pop())\n",
    "#     else:\n",
    "#         lst.append('Other')\n",
    "#     city_area_list.append(lst) \n",
    "\n",
    "# loc_df = pd.DataFrame(city_area_list, columns=['Loc_Level1','Loc_Level2'])\n",
    "# #loc_df = pd.DataFrame(city_area_list, columns=['Loc_Level1'])\n",
    "\n",
    "# loc_df = pd.get_dummies(loc_df, columns=['Loc_Level1'])\n",
    "# loc_df = pd.get_dummies(loc_df, columns=['Loc_Level2'])\n",
    "\n",
    "# train_df = train_df.join(loc_df[:len(train_df)]) \n",
    "# test_df = test_df.join(loc_df[len(train_df):].reset_index().drop(\"index\", axis = 1))\n",
    "\n"
   ]
  },
  {
   "cell_type": "markdown",
   "metadata": {},
   "source": [
    "#### Drop the Resturant Id column"
   ]
  },
  {
   "cell_type": "code",
   "execution_count": 111,
   "metadata": {
    "collapsed": true
   },
   "outputs": [],
   "source": [
    "train_df.drop(\"Restaurant\", axis = 1, inplace = True)\n",
    "test_df.drop(\"Restaurant\", axis = 1, inplace = True)"
   ]
  },
  {
   "cell_type": "code",
   "execution_count": 112,
   "metadata": {
    "collapsed": true
   },
   "outputs": [],
   "source": [
    "train_df.drop(\"Cuisines\", axis = 1, inplace = True)\n",
    "test_df.drop(\"Cuisines\", axis = 1, inplace = True)\n",
    "\n",
    "train_df.drop(\"Location\", axis = 1, inplace = True)\n",
    "test_df.drop(\"Location\", axis = 1, inplace = True)"
   ]
  },
  {
   "cell_type": "markdown",
   "metadata": {},
   "source": [
    "## Handling Missing Values"
   ]
  },
  {
   "cell_type": "code",
   "execution_count": null,
   "metadata": {
    "collapsed": true
   },
   "outputs": [],
   "source": [
    "train_df.head()"
   ]
  },
  {
   "cell_type": "code",
   "execution_count": null,
   "metadata": {
    "collapsed": true
   },
   "outputs": [],
   "source": [
    "train_df.tail()"
   ]
  },
  {
   "cell_type": "code",
   "execution_count": null,
   "metadata": {
    "collapsed": true
   },
   "outputs": [],
   "source": [
    "test_df.head()"
   ]
  },
  {
   "cell_type": "code",
   "execution_count": null,
   "metadata": {
    "collapsed": true
   },
   "outputs": [],
   "source": [
    "test_df.tail()"
   ]
  },
  {
   "cell_type": "markdown",
   "metadata": {},
   "source": [
    "## Post Processing"
   ]
  },
  {
   "cell_type": "markdown",
   "metadata": {},
   "source": [
    "#### Normalizing"
   ]
  },
  {
   "cell_type": "code",
   "execution_count": null,
   "metadata": {
    "collapsed": true
   },
   "outputs": [],
   "source": [
    "# min_max_scaler = preprocessing.MinMaxScaler()\n",
    "\n",
    "# train_df_imp[['Average_Cost','Cuisines_Count','Loc_Level1_code','Loc_Level2_code','Minimum_Order','Rating','Reviews','Votes']] = min_max_scaler.fit_transform(train_df_imp[['Average_Cost_code','Cuisines_Count','Loc_Level1_code','Loc_Level2_code','Minimum_Order_code','Rating','Reviews','Votes']])\n",
    "# test_df_imp[['Average_Cost','Cuisines_Count','Loc_Level1_code','Loc_Level2_code','Minimum_Order','Rating','Reviews','Votes']] = min_max_scaler.transform(test_df_imp[['Average_Cost_code','Cuisines_Count','Loc_Level1_code','Loc_Level2_code','Minimum_Order_code','Rating','Reviews','Votes']])"
   ]
  },
  {
   "cell_type": "markdown",
   "metadata": {},
   "source": [
    "## Model Ready Data"
   ]
  },
  {
   "cell_type": "code",
   "execution_count": 150,
   "metadata": {},
   "outputs": [
    {
     "data": {
      "text/html": [
       "<div>\n",
       "<style>\n",
       "    .dataframe thead tr:only-child th {\n",
       "        text-align: right;\n",
       "    }\n",
       "\n",
       "    .dataframe thead th {\n",
       "        text-align: left;\n",
       "    }\n",
       "\n",
       "    .dataframe tbody tr th {\n",
       "        vertical-align: top;\n",
       "    }\n",
       "</style>\n",
       "<table border=\"1\" class=\"dataframe\">\n",
       "  <thead>\n",
       "    <tr style=\"text-align: right;\">\n",
       "      <th></th>\n",
       "      <th>Average_Cost</th>\n",
       "      <th>Minimum_Order</th>\n",
       "      <th>Rating</th>\n",
       "      <th>Votes</th>\n",
       "      <th>Reviews</th>\n",
       "      <th>Delivery_Time</th>\n",
       "      <th>NorthIndian</th>\n",
       "      <th>SouthAmerican</th>\n",
       "      <th>French</th>\n",
       "      <th>Mexican</th>\n",
       "      <th>...</th>\n",
       "      <th>Loc_Code_25</th>\n",
       "      <th>Loc_Code_26</th>\n",
       "      <th>Loc_Code_27</th>\n",
       "      <th>Loc_Code_28</th>\n",
       "      <th>Loc_Code_29</th>\n",
       "      <th>Loc_Code_30</th>\n",
       "      <th>Loc_Code_31</th>\n",
       "      <th>Loc_Code_32</th>\n",
       "      <th>Loc_Code_33</th>\n",
       "      <th>Loc_Code_34</th>\n",
       "    </tr>\n",
       "  </thead>\n",
       "  <tbody>\n",
       "    <tr>\n",
       "      <th>0</th>\n",
       "      <td>200</td>\n",
       "      <td>50</td>\n",
       "      <td>3.5</td>\n",
       "      <td>12</td>\n",
       "      <td>4</td>\n",
       "      <td>30 minutes</td>\n",
       "      <td>0</td>\n",
       "      <td>0</td>\n",
       "      <td>0</td>\n",
       "      <td>0</td>\n",
       "      <td>...</td>\n",
       "      <td>0</td>\n",
       "      <td>0</td>\n",
       "      <td>0</td>\n",
       "      <td>0</td>\n",
       "      <td>0</td>\n",
       "      <td>0</td>\n",
       "      <td>0</td>\n",
       "      <td>0</td>\n",
       "      <td>0</td>\n",
       "      <td>0</td>\n",
       "    </tr>\n",
       "    <tr>\n",
       "      <th>1</th>\n",
       "      <td>100</td>\n",
       "      <td>50</td>\n",
       "      <td>3.5</td>\n",
       "      <td>11</td>\n",
       "      <td>4</td>\n",
       "      <td>30 minutes</td>\n",
       "      <td>0</td>\n",
       "      <td>0</td>\n",
       "      <td>0</td>\n",
       "      <td>0</td>\n",
       "      <td>...</td>\n",
       "      <td>0</td>\n",
       "      <td>0</td>\n",
       "      <td>0</td>\n",
       "      <td>0</td>\n",
       "      <td>0</td>\n",
       "      <td>1</td>\n",
       "      <td>0</td>\n",
       "      <td>0</td>\n",
       "      <td>0</td>\n",
       "      <td>0</td>\n",
       "    </tr>\n",
       "    <tr>\n",
       "      <th>2</th>\n",
       "      <td>150</td>\n",
       "      <td>50</td>\n",
       "      <td>3.6</td>\n",
       "      <td>99</td>\n",
       "      <td>30</td>\n",
       "      <td>65 minutes</td>\n",
       "      <td>0</td>\n",
       "      <td>0</td>\n",
       "      <td>0</td>\n",
       "      <td>0</td>\n",
       "      <td>...</td>\n",
       "      <td>0</td>\n",
       "      <td>0</td>\n",
       "      <td>0</td>\n",
       "      <td>0</td>\n",
       "      <td>0</td>\n",
       "      <td>0</td>\n",
       "      <td>0</td>\n",
       "      <td>0</td>\n",
       "      <td>0</td>\n",
       "      <td>0</td>\n",
       "    </tr>\n",
       "    <tr>\n",
       "      <th>3</th>\n",
       "      <td>250</td>\n",
       "      <td>99</td>\n",
       "      <td>3.7</td>\n",
       "      <td>176</td>\n",
       "      <td>95</td>\n",
       "      <td>30 minutes</td>\n",
       "      <td>1</td>\n",
       "      <td>0</td>\n",
       "      <td>0</td>\n",
       "      <td>0</td>\n",
       "      <td>...</td>\n",
       "      <td>0</td>\n",
       "      <td>0</td>\n",
       "      <td>0</td>\n",
       "      <td>1</td>\n",
       "      <td>0</td>\n",
       "      <td>0</td>\n",
       "      <td>0</td>\n",
       "      <td>0</td>\n",
       "      <td>0</td>\n",
       "      <td>0</td>\n",
       "    </tr>\n",
       "    <tr>\n",
       "      <th>4</th>\n",
       "      <td>200</td>\n",
       "      <td>99</td>\n",
       "      <td>3.2</td>\n",
       "      <td>521</td>\n",
       "      <td>235</td>\n",
       "      <td>65 minutes</td>\n",
       "      <td>0</td>\n",
       "      <td>0</td>\n",
       "      <td>0</td>\n",
       "      <td>0</td>\n",
       "      <td>...</td>\n",
       "      <td>0</td>\n",
       "      <td>1</td>\n",
       "      <td>0</td>\n",
       "      <td>0</td>\n",
       "      <td>0</td>\n",
       "      <td>0</td>\n",
       "      <td>0</td>\n",
       "      <td>0</td>\n",
       "      <td>0</td>\n",
       "      <td>0</td>\n",
       "    </tr>\n",
       "  </tbody>\n",
       "</table>\n",
       "<p>5 rows × 142 columns</p>\n",
       "</div>"
      ],
      "text/plain": [
       "   Average_Cost  Minimum_Order  Rating  Votes  Reviews Delivery_Time  \\\n",
       "0           200             50     3.5     12        4    30 minutes   \n",
       "1           100             50     3.5     11        4    30 minutes   \n",
       "2           150             50     3.6     99       30    65 minutes   \n",
       "3           250             99     3.7    176       95    30 minutes   \n",
       "4           200             99     3.2    521      235    65 minutes   \n",
       "\n",
       "   NorthIndian  SouthAmerican  French  Mexican     ...       Loc_Code_25  \\\n",
       "0            0              0       0        0     ...                 0   \n",
       "1            0              0       0        0     ...                 0   \n",
       "2            0              0       0        0     ...                 0   \n",
       "3            1              0       0        0     ...                 0   \n",
       "4            0              0       0        0     ...                 0   \n",
       "\n",
       "   Loc_Code_26  Loc_Code_27  Loc_Code_28  Loc_Code_29  Loc_Code_30  \\\n",
       "0            0            0            0            0            0   \n",
       "1            0            0            0            0            1   \n",
       "2            0            0            0            0            0   \n",
       "3            0            0            1            0            0   \n",
       "4            1            0            0            0            0   \n",
       "\n",
       "   Loc_Code_31  Loc_Code_32  Loc_Code_33  Loc_Code_34  \n",
       "0            0            0            0            0  \n",
       "1            0            0            0            0  \n",
       "2            0            0            0            0  \n",
       "3            0            0            0            0  \n",
       "4            0            0            0            0  \n",
       "\n",
       "[5 rows x 142 columns]"
      ]
     },
     "execution_count": 150,
     "metadata": {},
     "output_type": "execute_result"
    }
   ],
   "source": [
    "train_df.head()"
   ]
  },
  {
   "cell_type": "code",
   "execution_count": 151,
   "metadata": {},
   "outputs": [
    {
     "data": {
      "text/html": [
       "<div>\n",
       "<style>\n",
       "    .dataframe thead tr:only-child th {\n",
       "        text-align: right;\n",
       "    }\n",
       "\n",
       "    .dataframe thead th {\n",
       "        text-align: left;\n",
       "    }\n",
       "\n",
       "    .dataframe tbody tr th {\n",
       "        vertical-align: top;\n",
       "    }\n",
       "</style>\n",
       "<table border=\"1\" class=\"dataframe\">\n",
       "  <thead>\n",
       "    <tr style=\"text-align: right;\">\n",
       "      <th></th>\n",
       "      <th>Average_Cost</th>\n",
       "      <th>Minimum_Order</th>\n",
       "      <th>Rating</th>\n",
       "      <th>Votes</th>\n",
       "      <th>Reviews</th>\n",
       "      <th>Delivery_Time</th>\n",
       "      <th>NorthIndian</th>\n",
       "      <th>SouthAmerican</th>\n",
       "      <th>French</th>\n",
       "      <th>Mexican</th>\n",
       "      <th>...</th>\n",
       "      <th>Loc_Code_25</th>\n",
       "      <th>Loc_Code_26</th>\n",
       "      <th>Loc_Code_27</th>\n",
       "      <th>Loc_Code_28</th>\n",
       "      <th>Loc_Code_29</th>\n",
       "      <th>Loc_Code_30</th>\n",
       "      <th>Loc_Code_31</th>\n",
       "      <th>Loc_Code_32</th>\n",
       "      <th>Loc_Code_33</th>\n",
       "      <th>Loc_Code_34</th>\n",
       "    </tr>\n",
       "  </thead>\n",
       "  <tbody>\n",
       "    <tr>\n",
       "      <th>11086</th>\n",
       "      <td>250</td>\n",
       "      <td>50</td>\n",
       "      <td>4.2</td>\n",
       "      <td>326</td>\n",
       "      <td>189</td>\n",
       "      <td>30 minutes</td>\n",
       "      <td>0</td>\n",
       "      <td>0</td>\n",
       "      <td>0</td>\n",
       "      <td>0</td>\n",
       "      <td>...</td>\n",
       "      <td>0</td>\n",
       "      <td>0</td>\n",
       "      <td>0</td>\n",
       "      <td>0</td>\n",
       "      <td>0</td>\n",
       "      <td>0</td>\n",
       "      <td>0</td>\n",
       "      <td>0</td>\n",
       "      <td>0</td>\n",
       "      <td>0</td>\n",
       "    </tr>\n",
       "    <tr>\n",
       "      <th>11087</th>\n",
       "      <td>100</td>\n",
       "      <td>50</td>\n",
       "      <td>3.6</td>\n",
       "      <td>36</td>\n",
       "      <td>16</td>\n",
       "      <td>30 minutes</td>\n",
       "      <td>0</td>\n",
       "      <td>0</td>\n",
       "      <td>0</td>\n",
       "      <td>0</td>\n",
       "      <td>...</td>\n",
       "      <td>0</td>\n",
       "      <td>0</td>\n",
       "      <td>0</td>\n",
       "      <td>0</td>\n",
       "      <td>1</td>\n",
       "      <td>0</td>\n",
       "      <td>0</td>\n",
       "      <td>0</td>\n",
       "      <td>0</td>\n",
       "      <td>0</td>\n",
       "    </tr>\n",
       "    <tr>\n",
       "      <th>11088</th>\n",
       "      <td>100</td>\n",
       "      <td>50</td>\n",
       "      <td>3.5</td>\n",
       "      <td>45</td>\n",
       "      <td>18</td>\n",
       "      <td>30 minutes</td>\n",
       "      <td>1</td>\n",
       "      <td>0</td>\n",
       "      <td>0</td>\n",
       "      <td>0</td>\n",
       "      <td>...</td>\n",
       "      <td>0</td>\n",
       "      <td>0</td>\n",
       "      <td>0</td>\n",
       "      <td>0</td>\n",
       "      <td>0</td>\n",
       "      <td>0</td>\n",
       "      <td>0</td>\n",
       "      <td>0</td>\n",
       "      <td>0</td>\n",
       "      <td>0</td>\n",
       "    </tr>\n",
       "    <tr>\n",
       "      <th>11089</th>\n",
       "      <td>100</td>\n",
       "      <td>50</td>\n",
       "      <td>3.1</td>\n",
       "      <td>24</td>\n",
       "      <td>9</td>\n",
       "      <td>30 minutes</td>\n",
       "      <td>1</td>\n",
       "      <td>0</td>\n",
       "      <td>0</td>\n",
       "      <td>0</td>\n",
       "      <td>...</td>\n",
       "      <td>0</td>\n",
       "      <td>0</td>\n",
       "      <td>0</td>\n",
       "      <td>0</td>\n",
       "      <td>0</td>\n",
       "      <td>1</td>\n",
       "      <td>0</td>\n",
       "      <td>0</td>\n",
       "      <td>0</td>\n",
       "      <td>0</td>\n",
       "    </tr>\n",
       "    <tr>\n",
       "      <th>11090</th>\n",
       "      <td>100</td>\n",
       "      <td>50</td>\n",
       "      <td>3.7</td>\n",
       "      <td>4</td>\n",
       "      <td>2</td>\n",
       "      <td>30 minutes</td>\n",
       "      <td>1</td>\n",
       "      <td>0</td>\n",
       "      <td>0</td>\n",
       "      <td>0</td>\n",
       "      <td>...</td>\n",
       "      <td>0</td>\n",
       "      <td>0</td>\n",
       "      <td>0</td>\n",
       "      <td>0</td>\n",
       "      <td>0</td>\n",
       "      <td>0</td>\n",
       "      <td>1</td>\n",
       "      <td>0</td>\n",
       "      <td>0</td>\n",
       "      <td>0</td>\n",
       "    </tr>\n",
       "  </tbody>\n",
       "</table>\n",
       "<p>5 rows × 142 columns</p>\n",
       "</div>"
      ],
      "text/plain": [
       "       Average_Cost  Minimum_Order  Rating  Votes  Reviews Delivery_Time  \\\n",
       "11086           250             50     4.2    326      189    30 minutes   \n",
       "11087           100             50     3.6     36       16    30 minutes   \n",
       "11088           100             50     3.5     45       18    30 minutes   \n",
       "11089           100             50     3.1     24        9    30 minutes   \n",
       "11090           100             50     3.7      4        2    30 minutes   \n",
       "\n",
       "       NorthIndian  SouthAmerican  French  Mexican     ...       Loc_Code_25  \\\n",
       "11086            0              0       0        0     ...                 0   \n",
       "11087            0              0       0        0     ...                 0   \n",
       "11088            1              0       0        0     ...                 0   \n",
       "11089            1              0       0        0     ...                 0   \n",
       "11090            1              0       0        0     ...                 0   \n",
       "\n",
       "       Loc_Code_26  Loc_Code_27  Loc_Code_28  Loc_Code_29  Loc_Code_30  \\\n",
       "11086            0            0            0            0            0   \n",
       "11087            0            0            0            1            0   \n",
       "11088            0            0            0            0            0   \n",
       "11089            0            0            0            0            1   \n",
       "11090            0            0            0            0            0   \n",
       "\n",
       "       Loc_Code_31  Loc_Code_32  Loc_Code_33  Loc_Code_34  \n",
       "11086            0            0            0            0  \n",
       "11087            0            0            0            0  \n",
       "11088            0            0            0            0  \n",
       "11089            0            0            0            0  \n",
       "11090            1            0            0            0  \n",
       "\n",
       "[5 rows x 142 columns]"
      ]
     },
     "execution_count": 151,
     "metadata": {},
     "output_type": "execute_result"
    }
   ],
   "source": [
    "train_df.tail()"
   ]
  },
  {
   "cell_type": "code",
   "execution_count": 152,
   "metadata": {},
   "outputs": [
    {
     "data": {
      "text/plain": [
       "Index(['Average_Cost', 'Minimum_Order', 'Rating', 'Votes', 'Reviews',\n",
       "       'Delivery_Time', 'NorthIndian', 'SouthAmerican', 'French', 'Mexican',\n",
       "       ...\n",
       "       'Loc_Code_25', 'Loc_Code_26', 'Loc_Code_27', 'Loc_Code_28',\n",
       "       'Loc_Code_29', 'Loc_Code_30', 'Loc_Code_31', 'Loc_Code_32',\n",
       "       'Loc_Code_33', 'Loc_Code_34'],\n",
       "      dtype='object', length=142)"
      ]
     },
     "execution_count": 152,
     "metadata": {},
     "output_type": "execute_result"
    }
   ],
   "source": [
    "train_df.columns"
   ]
  },
  {
   "cell_type": "code",
   "execution_count": 153,
   "metadata": {
    "collapsed": true
   },
   "outputs": [],
   "source": [
    "#X = train_df[cols + ['Rating'] + ['Location_code']]\n",
    "X = train_df.loc[:, train_df.columns != 'Delivery_Time']\n",
    "#X = train_df[['Average_Cost', 'Cuisines_Count', 'Loc_Level1_code','Loc_Level2_code', 'Minimum_Order', 'Rating', 'Reviews', 'Votes']]\n",
    "y = train_df[[\"Delivery_Time\"]]"
   ]
  },
  {
   "cell_type": "code",
   "execution_count": 154,
   "metadata": {},
   "outputs": [
    {
     "data": {
      "text/html": [
       "<div>\n",
       "<style>\n",
       "    .dataframe thead tr:only-child th {\n",
       "        text-align: right;\n",
       "    }\n",
       "\n",
       "    .dataframe thead th {\n",
       "        text-align: left;\n",
       "    }\n",
       "\n",
       "    .dataframe tbody tr th {\n",
       "        vertical-align: top;\n",
       "    }\n",
       "</style>\n",
       "<table border=\"1\" class=\"dataframe\">\n",
       "  <thead>\n",
       "    <tr style=\"text-align: right;\">\n",
       "      <th></th>\n",
       "      <th>Average_Cost</th>\n",
       "      <th>Minimum_Order</th>\n",
       "      <th>Rating</th>\n",
       "      <th>Votes</th>\n",
       "      <th>Reviews</th>\n",
       "      <th>NorthIndian</th>\n",
       "      <th>SouthAmerican</th>\n",
       "      <th>French</th>\n",
       "      <th>Mexican</th>\n",
       "      <th>Assamese</th>\n",
       "      <th>...</th>\n",
       "      <th>Loc_Code_25</th>\n",
       "      <th>Loc_Code_26</th>\n",
       "      <th>Loc_Code_27</th>\n",
       "      <th>Loc_Code_28</th>\n",
       "      <th>Loc_Code_29</th>\n",
       "      <th>Loc_Code_30</th>\n",
       "      <th>Loc_Code_31</th>\n",
       "      <th>Loc_Code_32</th>\n",
       "      <th>Loc_Code_33</th>\n",
       "      <th>Loc_Code_34</th>\n",
       "    </tr>\n",
       "  </thead>\n",
       "  <tbody>\n",
       "    <tr>\n",
       "      <th>0</th>\n",
       "      <td>200</td>\n",
       "      <td>50</td>\n",
       "      <td>3.5</td>\n",
       "      <td>12</td>\n",
       "      <td>4</td>\n",
       "      <td>0</td>\n",
       "      <td>0</td>\n",
       "      <td>0</td>\n",
       "      <td>0</td>\n",
       "      <td>0</td>\n",
       "      <td>...</td>\n",
       "      <td>0</td>\n",
       "      <td>0</td>\n",
       "      <td>0</td>\n",
       "      <td>0</td>\n",
       "      <td>0</td>\n",
       "      <td>0</td>\n",
       "      <td>0</td>\n",
       "      <td>0</td>\n",
       "      <td>0</td>\n",
       "      <td>0</td>\n",
       "    </tr>\n",
       "    <tr>\n",
       "      <th>1</th>\n",
       "      <td>100</td>\n",
       "      <td>50</td>\n",
       "      <td>3.5</td>\n",
       "      <td>11</td>\n",
       "      <td>4</td>\n",
       "      <td>0</td>\n",
       "      <td>0</td>\n",
       "      <td>0</td>\n",
       "      <td>0</td>\n",
       "      <td>0</td>\n",
       "      <td>...</td>\n",
       "      <td>0</td>\n",
       "      <td>0</td>\n",
       "      <td>0</td>\n",
       "      <td>0</td>\n",
       "      <td>0</td>\n",
       "      <td>1</td>\n",
       "      <td>0</td>\n",
       "      <td>0</td>\n",
       "      <td>0</td>\n",
       "      <td>0</td>\n",
       "    </tr>\n",
       "    <tr>\n",
       "      <th>2</th>\n",
       "      <td>150</td>\n",
       "      <td>50</td>\n",
       "      <td>3.6</td>\n",
       "      <td>99</td>\n",
       "      <td>30</td>\n",
       "      <td>0</td>\n",
       "      <td>0</td>\n",
       "      <td>0</td>\n",
       "      <td>0</td>\n",
       "      <td>0</td>\n",
       "      <td>...</td>\n",
       "      <td>0</td>\n",
       "      <td>0</td>\n",
       "      <td>0</td>\n",
       "      <td>0</td>\n",
       "      <td>0</td>\n",
       "      <td>0</td>\n",
       "      <td>0</td>\n",
       "      <td>0</td>\n",
       "      <td>0</td>\n",
       "      <td>0</td>\n",
       "    </tr>\n",
       "    <tr>\n",
       "      <th>3</th>\n",
       "      <td>250</td>\n",
       "      <td>99</td>\n",
       "      <td>3.7</td>\n",
       "      <td>176</td>\n",
       "      <td>95</td>\n",
       "      <td>1</td>\n",
       "      <td>0</td>\n",
       "      <td>0</td>\n",
       "      <td>0</td>\n",
       "      <td>0</td>\n",
       "      <td>...</td>\n",
       "      <td>0</td>\n",
       "      <td>0</td>\n",
       "      <td>0</td>\n",
       "      <td>1</td>\n",
       "      <td>0</td>\n",
       "      <td>0</td>\n",
       "      <td>0</td>\n",
       "      <td>0</td>\n",
       "      <td>0</td>\n",
       "      <td>0</td>\n",
       "    </tr>\n",
       "    <tr>\n",
       "      <th>4</th>\n",
       "      <td>200</td>\n",
       "      <td>99</td>\n",
       "      <td>3.2</td>\n",
       "      <td>521</td>\n",
       "      <td>235</td>\n",
       "      <td>0</td>\n",
       "      <td>0</td>\n",
       "      <td>0</td>\n",
       "      <td>0</td>\n",
       "      <td>0</td>\n",
       "      <td>...</td>\n",
       "      <td>0</td>\n",
       "      <td>1</td>\n",
       "      <td>0</td>\n",
       "      <td>0</td>\n",
       "      <td>0</td>\n",
       "      <td>0</td>\n",
       "      <td>0</td>\n",
       "      <td>0</td>\n",
       "      <td>0</td>\n",
       "      <td>0</td>\n",
       "    </tr>\n",
       "  </tbody>\n",
       "</table>\n",
       "<p>5 rows × 141 columns</p>\n",
       "</div>"
      ],
      "text/plain": [
       "   Average_Cost  Minimum_Order  Rating  Votes  Reviews  NorthIndian  \\\n",
       "0           200             50     3.5     12        4            0   \n",
       "1           100             50     3.5     11        4            0   \n",
       "2           150             50     3.6     99       30            0   \n",
       "3           250             99     3.7    176       95            1   \n",
       "4           200             99     3.2    521      235            0   \n",
       "\n",
       "   SouthAmerican  French  Mexican  Assamese     ...       Loc_Code_25  \\\n",
       "0              0       0        0         0     ...                 0   \n",
       "1              0       0        0         0     ...                 0   \n",
       "2              0       0        0         0     ...                 0   \n",
       "3              0       0        0         0     ...                 0   \n",
       "4              0       0        0         0     ...                 0   \n",
       "\n",
       "   Loc_Code_26  Loc_Code_27  Loc_Code_28  Loc_Code_29  Loc_Code_30  \\\n",
       "0            0            0            0            0            0   \n",
       "1            0            0            0            0            1   \n",
       "2            0            0            0            0            0   \n",
       "3            0            0            1            0            0   \n",
       "4            1            0            0            0            0   \n",
       "\n",
       "   Loc_Code_31  Loc_Code_32  Loc_Code_33  Loc_Code_34  \n",
       "0            0            0            0            0  \n",
       "1            0            0            0            0  \n",
       "2            0            0            0            0  \n",
       "3            0            0            0            0  \n",
       "4            0            0            0            0  \n",
       "\n",
       "[5 rows x 141 columns]"
      ]
     },
     "execution_count": 154,
     "metadata": {},
     "output_type": "execute_result"
    }
   ],
   "source": [
    "X.head()"
   ]
  },
  {
   "cell_type": "code",
   "execution_count": 155,
   "metadata": {
    "collapsed": true
   },
   "outputs": [],
   "source": [
    "#yd = pd.get_dummies(y, columns=['Delivery_Time'])"
   ]
  },
  {
   "cell_type": "code",
   "execution_count": 156,
   "metadata": {
    "collapsed": true
   },
   "outputs": [],
   "source": [
    "# dividing X, y into train and test data \n",
    "X_train, X_test, y_train, y_test = train_test_split(X, y, test_size=0.1, random_state = 10) "
   ]
  },
  {
   "cell_type": "markdown",
   "metadata": {},
   "source": [
    "# Build Model"
   ]
  },
  {
   "cell_type": "markdown",
   "metadata": {},
   "source": [
    "#### Decision Tree"
   ]
  },
  {
   "cell_type": "code",
   "execution_count": 72,
   "metadata": {
    "collapsed": true
   },
   "outputs": [],
   "source": [
    "dtree_model = DecisionTreeClassifier(max_depth = 35).fit(X_train, y_train) \n",
    "dtree_predictions = dtree_model.predict(X_test) \n",
    "  \n",
    "# creating a confusion matrix \n",
    "#cm = confusion_matrix(y_test, dtree_predictions) \n",
    "#print(cm)"
   ]
  },
  {
   "cell_type": "code",
   "execution_count": 73,
   "metadata": {},
   "outputs": [
    {
     "name": "stdout",
     "output_type": "stream",
     "text": [
      "0.715315315315\n"
     ]
    }
   ],
   "source": [
    "accuracy = dtree_model.score(X_test, y_test)\n",
    "print(accuracy)"
   ]
  },
  {
   "cell_type": "code",
   "execution_count": 69,
   "metadata": {
    "collapsed": true
   },
   "outputs": [],
   "source": [
    "#dtree_predictions_test = dtree_model.predict(test_df) "
   ]
  },
  {
   "cell_type": "code",
   "execution_count": null,
   "metadata": {
    "collapsed": true
   },
   "outputs": [],
   "source": [
    "#dtree_predictions_test"
   ]
  },
  {
   "cell_type": "code",
   "execution_count": null,
   "metadata": {
    "collapsed": true
   },
   "outputs": [],
   "source": [
    "#df_result = pd.DataFrame(dtree_predictions_test, columns= ['Delivery_Time'])\n",
    "#df_result.to_excel(r'result.xlsx', index = None)"
   ]
  },
  {
   "cell_type": "markdown",
   "metadata": {},
   "source": [
    "### Random Forest"
   ]
  },
  {
   "cell_type": "code",
   "execution_count": 161,
   "metadata": {},
   "outputs": [
    {
     "name": "stderr",
     "output_type": "stream",
     "text": [
      "/Users/Pramod/anaconda/lib/python3.6/site-packages/ipykernel_launcher.py:11: DataConversionWarning: A column-vector y was passed when a 1d array was expected. Please change the shape of y to (n_samples,), for example using ravel().\n",
      "  # This is added back by InteractiveShellApp.init_path()\n",
      "Exception ignored in: <bound method DMatrix.__del__ of <xgboost.core.DMatrix object at 0x224e91908>>\n",
      "Traceback (most recent call last):\n",
      "  File \"/Users/Pramod/anaconda/lib/python3.6/site-packages/xgboost/core.py\", line 368, in __del__\n",
      "    if self.handle is not None:\n",
      "AttributeError: 'DMatrix' object has no attribute 'handle'\n"
     ]
    },
    {
     "data": {
      "text/plain": [
       "RandomForestClassifier(bootstrap=True, class_weight=None, criterion='gini',\n",
       "            max_depth=None, max_features=100, max_leaf_nodes=None,\n",
       "            min_impurity_split=1e-07, min_samples_leaf=1,\n",
       "            min_samples_split=3, min_weight_fraction_leaf=0.0,\n",
       "            n_estimators=1500, n_jobs=1, oob_score=False, random_state=9,\n",
       "            verbose=0, warm_start=False)"
      ]
     },
     "execution_count": 161,
     "metadata": {},
     "output_type": "execute_result"
    }
   ],
   "source": [
    "# Fitting Random Forest Classification to the Training set\n",
    "#classifier = RandomForestClassifier(n_estimators = 300, criterion = 'entropy', random_state = 50)\n",
    "classifier = RandomForestClassifier(n_estimators = 1500, \n",
    "                                    random_state = 9, \n",
    "                                    max_features=100, \n",
    "                                    bootstrap = True,\n",
    "                                    #max_depth = 5, \n",
    "                                    min_samples_split = 3,  \n",
    "                                    min_samples_leaf = 1\n",
    "                                   )\n",
    "classifier.fit(X_train, y_train)"
   ]
  },
  {
   "cell_type": "code",
   "execution_count": 162,
   "metadata": {
    "collapsed": true
   },
   "outputs": [],
   "source": [
    "# Predicting the Test set results\n",
    "y_pred = classifier.predict(X_test)"
   ]
  },
  {
   "cell_type": "code",
   "execution_count": 163,
   "metadata": {},
   "outputs": [
    {
     "name": "stdout",
     "output_type": "stream",
     "text": [
      "0.793693693694\n"
     ]
    }
   ],
   "source": [
    "print(accuracy_score(y_test, y_pred))"
   ]
  },
  {
   "cell_type": "code",
   "execution_count": 92,
   "metadata": {
    "collapsed": true
   },
   "outputs": [],
   "source": [
    "# list of column names from original data\n",
    "cols = X_train.columns\n",
    "# feature importances from random forest fit rf\n",
    "rank = classifier.feature_importances_\n",
    "# form dictionary of feature ranks and features\n",
    "features_dict = dict(zip(np.argsort(rank),cols))"
   ]
  },
  {
   "cell_type": "code",
   "execution_count": 93,
   "metadata": {},
   "outputs": [
    {
     "data": {
      "text/plain": [
       "{0: 'Loc_Code_31',\n",
       " 1: 'Loc_Code_30',\n",
       " 2: 'Loc_Code_32',\n",
       " 3: 'Loc_Code_34',\n",
       " 4: 'Loc_Code_33',\n",
       " 5: 'Loc_Code_27',\n",
       " 6: 'Sandwich',\n",
       " 7: 'African',\n",
       " 8: 'Portuguese',\n",
       " 9: 'Rating',\n",
       " 10: 'Belgian',\n",
       " 11: 'Thai',\n",
       " 12: 'Iranian',\n",
       " 13: 'Seafood',\n",
       " 14: 'Average_Cost',\n",
       " 15: 'Steak',\n",
       " 16: 'Bangladeshi',\n",
       " 17: 'RawMeats',\n",
       " 18: 'Konkan',\n",
       " 19: 'Coffee',\n",
       " 20: 'Wraps',\n",
       " 21: 'Italian',\n",
       " 22: 'Loc_Code_5',\n",
       " 23: 'Mediterranean',\n",
       " 24: 'Turkish',\n",
       " 25: 'ModernIndian',\n",
       " 26: 'SriLankan',\n",
       " 27: 'Parsi',\n",
       " 28: 'Reviews',\n",
       " 29: 'Loc_Code_22',\n",
       " 30: 'Rajasthani',\n",
       " 31: 'FingerFood',\n",
       " 32: 'Loc_Code_4',\n",
       " 33: 'Andhra',\n",
       " 34: 'Lucknowi',\n",
       " 35: 'RoastChicken',\n",
       " 36: 'SouthAmerican',\n",
       " 37: 'Chettinad',\n",
       " 38: 'Kebab',\n",
       " 39: 'Loc_Code_14',\n",
       " 40: 'BubbleTea',\n",
       " 41: 'Kashmiri',\n",
       " 42: 'Loc_Code_29',\n",
       " 43: 'Maharashtrian',\n",
       " 44: 'Loc_Code_10',\n",
       " 45: 'Japanese',\n",
       " 46: 'Salad',\n",
       " 47: 'American',\n",
       " 48: 'Korean',\n",
       " 49: 'Mangalorean',\n",
       " 50: 'Awadhi',\n",
       " 51: 'Cafe',\n",
       " 52: 'SouthIndian',\n",
       " 53: 'Tea',\n",
       " 54: 'MiddleEastern',\n",
       " 55: 'Minimum_Order',\n",
       " 56: 'Loc_Code_26',\n",
       " 57: 'Votes',\n",
       " 58: 'Mexican',\n",
       " 59: 'IceCream',\n",
       " 60: 'Desserts',\n",
       " 61: 'Greek',\n",
       " 62: 'Rolls',\n",
       " 63: 'FastFood',\n",
       " 64: 'StreetFood',\n",
       " 65: 'Lebanese',\n",
       " 66: 'Beverages',\n",
       " 67: 'Malaysian',\n",
       " 68: 'Goan',\n",
       " 69: 'Loc_Code_28',\n",
       " 70: 'Pizza',\n",
       " 71: 'Malwani',\n",
       " 72: 'Paan',\n",
       " 73: 'Momos',\n",
       " 74: 'Loc_Code_23',\n",
       " 75: 'Bengali',\n",
       " 76: 'BarFood',\n",
       " 77: 'Spanish',\n",
       " 78: 'Tamil',\n",
       " 79: 'Continental',\n",
       " 80: 'Biryani',\n",
       " 81: 'Loc_Code_0',\n",
       " 82: 'NorthIndian',\n",
       " 83: 'French',\n",
       " 84: 'Tex-Mex',\n",
       " 85: 'Gujarati',\n",
       " 86: 'Chinese',\n",
       " 87: 'Juices',\n",
       " 88: 'Loc_Code_21',\n",
       " 89: 'Sushi',\n",
       " 90: 'Indonesian',\n",
       " 91: 'Loc_Code_20',\n",
       " 92: 'Brazilian',\n",
       " 93: 'Poké',\n",
       " 94: 'CharcoalChicken',\n",
       " 95: 'Indian',\n",
       " 96: 'FrozenYogurt',\n",
       " 97: 'Assamese',\n",
       " 98: 'Loc_Code_6',\n",
       " 99: 'Odia',\n",
       " 100: 'Asian',\n",
       " 101: 'Mithai',\n",
       " 102: 'European',\n",
       " 103: 'Hyderabadi',\n",
       " 104: 'Loc_Code_25',\n",
       " 105: 'HealthyFood',\n",
       " 106: 'Kerala',\n",
       " 107: 'Arabian',\n",
       " 108: 'Mughlai',\n",
       " 109: 'Vietnamese',\n",
       " 110: 'Loc_Code_24',\n",
       " 111: 'Loc_Code_3',\n",
       " 112: 'Loc_Code_2',\n",
       " 113: 'Loc_Code_16',\n",
       " 114: 'Loc_Code_13',\n",
       " 115: 'BBQ',\n",
       " 116: 'Loc_Code_11',\n",
       " 117: 'Nepalese',\n",
       " 118: 'NorthEastern',\n",
       " 119: 'Hotdogs',\n",
       " 120: 'Loc_Code_15',\n",
       " 121: 'Afghan',\n",
       " 122: 'Loc_Code_1',\n",
       " 123: 'Loc_Code_19',\n",
       " 124: 'Burmese',\n",
       " 125: 'Loc_Code_7',\n",
       " 126: 'German',\n",
       " 127: 'Bihari',\n",
       " 128: 'Israeli',\n",
       " 129: 'Bakery',\n",
       " 130: 'Naga',\n",
       " 131: 'Burger',\n",
       " 132: 'Loc_Code_17',\n",
       " 133: 'Mishti',\n",
       " 134: 'Loc_Code_18',\n",
       " 135: 'Loc_Code_9',\n",
       " 136: 'Loc_Code_8',\n",
       " 137: 'Loc_Code_12',\n",
       " 138: 'Cantonese',\n",
       " 139: 'Tibetan',\n",
       " 140: 'Bohri'}"
      ]
     },
     "execution_count": 93,
     "metadata": {},
     "output_type": "execute_result"
    }
   ],
   "source": [
    "features_dict"
   ]
  },
  {
   "cell_type": "code",
   "execution_count": null,
   "metadata": {
    "collapsed": true
   },
   "outputs": [],
   "source": []
  },
  {
   "cell_type": "code",
   "execution_count": 100,
   "metadata": {},
   "outputs": [
    {
     "name": "stderr",
     "output_type": "stream",
     "text": [
      "/Users/Pramod/anaconda/lib/python3.6/site-packages/ipykernel_launcher.py:1: DataConversionWarning: A column-vector y was passed when a 1d array was expected. Please change the shape of y to (n_samples,), for example using ravel().\n",
      "  \"\"\"Entry point for launching an IPython kernel.\n"
     ]
    },
    {
     "data": {
      "text/plain": [
       "RandomForestClassifier(bootstrap=True, class_weight=None, criterion='gini',\n",
       "            max_depth=None, max_features=100, max_leaf_nodes=None,\n",
       "            min_impurity_split=1e-07, min_samples_leaf=1,\n",
       "            min_samples_split=3, min_weight_fraction_leaf=0.0,\n",
       "            n_estimators=1500, n_jobs=1, oob_score=False, random_state=9,\n",
       "            verbose=0, warm_start=False)"
      ]
     },
     "execution_count": 100,
     "metadata": {},
     "output_type": "execute_result"
    }
   ],
   "source": [
    "classifier.fit(X, y)"
   ]
  },
  {
   "cell_type": "code",
   "execution_count": 101,
   "metadata": {
    "collapsed": true
   },
   "outputs": [],
   "source": [
    "#y_pred = classifier.predict(X)\n",
    "#print(accuracy_score(y, y_pred))"
   ]
  },
  {
   "cell_type": "code",
   "execution_count": 102,
   "metadata": {
    "collapsed": true
   },
   "outputs": [],
   "source": [
    "rf_predictions = classifier.predict(test_df) "
   ]
  },
  {
   "cell_type": "code",
   "execution_count": 103,
   "metadata": {
    "collapsed": true
   },
   "outputs": [],
   "source": [
    "df_result = pd.DataFrame(rf_predictions, columns= ['Delivery_Time'])\n",
    "df_result.to_excel(r'result.xlsx', index = None)"
   ]
  },
  {
   "cell_type": "code",
   "execution_count": null,
   "metadata": {
    "collapsed": true
   },
   "outputs": [],
   "source": []
  },
  {
   "cell_type": "markdown",
   "metadata": {},
   "source": [
    "### XGBoost"
   ]
  },
  {
   "cell_type": "code",
   "execution_count": 168,
   "metadata": {},
   "outputs": [
    {
     "name": "stderr",
     "output_type": "stream",
     "text": [
      "/Users/Pramod/anaconda/lib/python3.6/site-packages/sklearn/preprocessing/label.py:112: DataConversionWarning: A column-vector y was passed when a 1d array was expected. Please change the shape of y to (n_samples, ), for example using ravel().\n",
      "  y = column_or_1d(y, warn=True)\n",
      "/Users/Pramod/anaconda/lib/python3.6/site-packages/sklearn/preprocessing/label.py:147: DataConversionWarning: A column-vector y was passed when a 1d array was expected. Please change the shape of y to (n_samples, ), for example using ravel().\n",
      "  y = column_or_1d(y, warn=True)\n"
     ]
    },
    {
     "data": {
      "text/plain": [
       "0.79729729729729726"
      ]
     },
     "execution_count": 168,
     "metadata": {},
     "output_type": "execute_result"
    }
   ],
   "source": [
    "modelxgb = XGBClassifier(random_state=5,\n",
    "                         learning_rate=0.05,\n",
    "                         n_estimators=750,\n",
    "                        reg_lambda=0.5,\n",
    "                        max_depth = 25)\n",
    "modelxgb.fit(X_train, y_train)\n",
    "modelxgb.score(X_test,y_test)"
   ]
  },
  {
   "cell_type": "code",
   "execution_count": null,
   "metadata": {
    "collapsed": true
   },
   "outputs": [],
   "source": [
    "modelxgb = XGBClassifier(random_state=9,\n",
    "                         learning_rate=0.1,\n",
    "                         n_estimators=750,\n",
    "                         reg_lambda=0.075,\n",
    "                         max_depth = 33,\n",
    "                         objective = 'multi:softmax',\n",
    "                         n_class=7,\n",
    "                         seed=27)\n",
    "\n",
    "modelxgb.fit(X_train, y_train)\n",
    "modelxgb.score(X_test,y_test)"
   ]
  },
  {
   "cell_type": "code",
   "execution_count": null,
   "metadata": {},
   "outputs": [],
   "source": [
    "modelxgb = XGBClassifier(random_state=9,\n",
    "                         learning_rate=0.1,\n",
    "                         n_estimators=750,\n",
    "                        reg_lambda=0.075,\n",
    "                        max_depth = 33,\n",
    "                        objective = 'multi:softmax',\n",
    "                        n_class=7,\n",
    "                        seed=27)\n",
    "modelxgb.fit(X, y)"
   ]
  },
  {
   "cell_type": "code",
   "execution_count": null,
   "metadata": {
    "collapsed": true
   },
   "outputs": [],
   "source": [
    "xg_predictions = modelxgb.predict(test_df) \n",
    "\n",
    "df_result = pd.DataFrame(xg_predictions, columns= ['Delivery_Time'])\n",
    "df_result.to_excel(r'result.xlsx', index = None)"
   ]
  },
  {
   "cell_type": "code",
   "execution_count": null,
   "metadata": {
    "collapsed": true
   },
   "outputs": [],
   "source": []
  }
 ],
 "metadata": {
  "kernelspec": {
   "display_name": "Python 3",
   "language": "python",
   "name": "python3"
  },
  "language_info": {
   "codemirror_mode": {
    "name": "ipython",
    "version": 3
   },
   "file_extension": ".py",
   "mimetype": "text/x-python",
   "name": "python",
   "nbconvert_exporter": "python",
   "pygments_lexer": "ipython3",
   "version": "3.6.1"
  }
 },
 "nbformat": 4,
 "nbformat_minor": 2
}
